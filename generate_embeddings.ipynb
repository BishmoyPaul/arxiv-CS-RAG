{
 "cells": [
  {
   "cell_type": "markdown",
   "id": "97b13990",
   "metadata": {
    "papermill": {
     "duration": 0.007612,
     "end_time": "2024-08-15T08:23:27.387034",
     "exception": false,
     "start_time": "2024-08-15T08:23:27.379422",
     "status": "completed"
    },
    "tags": []
   },
   "source": [
    "## 🔎📚 ArXiv CS RAG 📚🔍\n",
    "\n",
    "This is the code for generating embeddings for [ArXiv CS RAG](https://huggingface.co/spaces/bishmoy/Arxiv-CS-RAG), a Huggingface space for searching paper embeddings and querying using large language models (LLMs) of your choice. This code takes advantage of the amazing [ArXiv](https://www.kaggle.com/datasets/Cornell-University/arxiv) dataset, which is updated weekly, to create embeddings from computer science paper abstracts. \n",
    "\n",
    "Our workflow consists of the following steps:\n",
    "\n",
    "1. ⚗️ **Filtering the ArXiv Dataset**: Filter out the enormous ArXiv dataset to pick abstracts from the computer science domain.\n",
    "2. ☑️ **Selecting Samples for Performance Verification**: Choose specific search queries and their expected paper abstract to verify performance in later steps. \n",
    "2. 🗃️ **Indexing Abstracts**: Use COLBERTv2 to index the filtered abstracts through the Ragatouille library \n",
    "3. 📊 **Verifying Indices**: Evaluate the accuracy of the generated indices using the selected sample search queries.\n",
    "\n",
    "All right, lets start!"
   ]
  },
  {
   "cell_type": "markdown",
   "id": "9d06124f",
   "metadata": {
    "papermill": {
     "duration": 0.00684,
     "end_time": "2024-08-15T08:23:27.401029",
     "exception": false,
     "start_time": "2024-08-15T08:23:27.394189",
     "status": "completed"
    },
    "tags": []
   },
   "source": [
    "### Installing the libraries"
   ]
  },
  {
   "cell_type": "code",
   "execution_count": 1,
   "id": "814dbb1e",
   "metadata": {
    "execution": {
     "iopub.execute_input": "2024-08-15T08:23:27.416449Z",
     "iopub.status.busy": "2024-08-15T08:23:27.416086Z",
     "iopub.status.idle": "2024-08-15T08:24:33.366172Z",
     "shell.execute_reply": "2024-08-15T08:24:33.365176Z"
    },
    "papermill": {
     "duration": 65.960635,
     "end_time": "2024-08-15T08:24:33.368612",
     "exception": false,
     "start_time": "2024-08-15T08:23:27.407977",
     "status": "completed"
    },
    "tags": []
   },
   "outputs": [
    {
     "name": "stdout",
     "output_type": "stream",
     "text": [
      "\u001b[31mERROR: pip's dependency resolver does not currently take into account all the packages that are installed. This behaviour is the source of the following dependency conflicts.\r\n",
      "cudf 24.6.1 requires cubinlinker, which is not installed.\r\n",
      "cudf 24.6.1 requires cupy-cuda11x>=12.0.0, which is not installed.\r\n",
      "cudf 24.6.1 requires ptxcompiler, which is not installed.\r\n",
      "cuml 24.6.1 requires cupy-cuda11x>=12.0.0, which is not installed.\r\n",
      "dask-cudf 24.6.1 requires cupy-cuda11x>=12.0.0, which is not installed.\r\n",
      "keras-cv 0.9.0 requires keras-core, which is not installed.\r\n",
      "tensorflow-decision-forests 1.8.1 requires wurlitzer, which is not installed.\r\n",
      "apache-beam 2.46.0 requires dill<0.3.2,>=0.3.1.1, but you have dill 0.3.8 which is incompatible.\r\n",
      "apache-beam 2.46.0 requires numpy<1.25.0,>=1.14.3, but you have numpy 1.26.4 which is incompatible.\r\n",
      "apache-beam 2.46.0 requires pyarrow<10.0.0,>=3.0.0, but you have pyarrow 16.1.0 which is incompatible.\r\n",
      "cudf 24.6.1 requires cuda-python<12.0a0,>=11.7.1, but you have cuda-python 12.5.0 which is incompatible.\r\n",
      "distributed 2024.5.1 requires dask==2024.5.1, but you have dask 2024.7.0 which is incompatible.\r\n",
      "google-cloud-bigquery 2.34.4 requires packaging<22.0dev,>=14.3, but you have packaging 23.2 which is incompatible.\r\n",
      "jupyterlab 4.2.3 requires jupyter-lsp>=2.0.0, but you have jupyter-lsp 1.5.1 which is incompatible.\r\n",
      "jupyterlab-lsp 5.1.0 requires jupyter-lsp>=2.0.0, but you have jupyter-lsp 1.5.1 which is incompatible.\r\n",
      "libpysal 4.9.2 requires shapely>=2.0.1, but you have shapely 1.8.5.post1 which is incompatible.\r\n",
      "momepy 0.7.2 requires shapely>=2, but you have shapely 1.8.5.post1 which is incompatible.\r\n",
      "osmnx 1.9.3 requires shapely>=2.0, but you have shapely 1.8.5.post1 which is incompatible.\r\n",
      "pointpats 2.5.0 requires shapely>=2, but you have shapely 1.8.5.post1 which is incompatible.\r\n",
      "preprocessing 0.1.13 requires nltk==3.2.4, but you have nltk 3.8.1 which is incompatible.\r\n",
      "rapids-dask-dependency 24.6.0a0 requires dask==2024.5.1, but you have dask 2024.7.0 which is incompatible.\r\n",
      "spaghetti 1.7.6 requires shapely>=2.0.1, but you have shapely 1.8.5.post1 which is incompatible.\r\n",
      "spopt 0.6.1 requires shapely>=2.0.1, but you have shapely 1.8.5.post1 which is incompatible.\r\n",
      "tensorflow 2.15.0 requires keras<2.16,>=2.15.0, but you have keras 3.4.1 which is incompatible.\r\n",
      "ydata-profiling 4.6.4 requires numpy<1.26,>=1.16.0, but you have numpy 1.26.4 which is incompatible.\u001b[0m\u001b[31m\r\n",
      "\u001b[0m\u001b[33mWARNING: Error parsing requirements for faiss-cpu: [Errno 2] No such file or directory: '/opt/conda/lib/python3.10/site-packages/faiss_cpu-1.8.0.post1.dist-info/METADATA'\u001b[0m\u001b[33m\r\n",
      "\u001b[0m"
     ]
    }
   ],
   "source": [
    "# Installing ragatouille\n",
    "!pip install -qq ragatouille\n",
    "# Uninstalling 'faiss-cpu' package and installing 'faiss-gpu' package\n",
    "!pip uninstall --y --q faiss-cpu & pip install --q faiss-gpu "
   ]
  },
  {
   "cell_type": "markdown",
   "id": "e34bd09d",
   "metadata": {
    "papermill": {
     "duration": 0.007302,
     "end_time": "2024-08-15T08:24:33.383914",
     "exception": false,
     "start_time": "2024-08-15T08:24:33.376612",
     "status": "completed"
    },
    "tags": []
   },
   "source": [
    "## ⚗️ Filtering the ArXiv Dataset"
   ]
  },
  {
   "cell_type": "markdown",
   "id": "7f55f5c2",
   "metadata": {
    "papermill": {
     "duration": 0.007041,
     "end_time": "2024-08-15T08:24:33.398589",
     "exception": false,
     "start_time": "2024-08-15T08:24:33.391548",
     "status": "completed"
    },
    "tags": []
   },
   "source": [
    "In this section, we filter out the ArXiv dataset to pick abstracts from the computer science domain only. \n",
    "\n",
    "To be more specific, we will filter abstracts from the following categories:\n",
    "\n",
    "- cs.CV (Computer Vision and Pattern Recognition)\n",
    "- cs.LG (Machine Learning)\n",
    "- cs.CL (Computation and Language)\n",
    "- cs.AI (Artificial Intelligence)\n",
    "- cs.NE (Neural and Evolutionary Computing)\n",
    "- cs.RO (Robotics)\n",
    "\n",
    "To do that, we would need to load the JSON dataset into memory using Polars. While you can use Pandas for this task, Polars is often faster for certain operations, making it our choice for filtering the dataset.\n",
    "\n",
    "Loading the entire dataset occupies approximately 27 GB of RAM. If this RAM is not freed, it can lead to an out-of-memory (OOM) error once we proceed with the next step of indexing. To prevent this, we create a smaller, filtered-out dataset from the large one and save it to disk. To that purpose, we write a script that would perform the filtering operation.\n",
    "\n",
    "Using a script clears out the occupied RAM once the script execution is complete. This is very useful for our purposes, as it lets us avoid potential OOM errors.\n"
   ]
  },
  {
   "cell_type": "code",
   "execution_count": 2,
   "id": "5d0b9e03",
   "metadata": {
    "execution": {
     "iopub.execute_input": "2024-08-15T08:24:33.414711Z",
     "iopub.status.busy": "2024-08-15T08:24:33.414396Z",
     "iopub.status.idle": "2024-08-15T08:24:33.422130Z",
     "shell.execute_reply": "2024-08-15T08:24:33.421306Z"
    },
    "papermill": {
     "duration": 0.018507,
     "end_time": "2024-08-15T08:24:33.424374",
     "exception": false,
     "start_time": "2024-08-15T08:24:33.405867",
     "status": "completed"
    },
    "tags": []
   },
   "outputs": [
    {
     "name": "stdout",
     "output_type": "stream",
     "text": [
      "Writing /kaggle/working/df_build.py\n"
     ]
    }
   ],
   "source": [
    "%%writefile /kaggle/working/df_build.py\n",
    "import polars as pl\n",
    "import time\n",
    "import argparse\n",
    "\n",
    "# Function to parse command-line arguments\n",
    "def parse_args():\n",
    "    parser = argparse.ArgumentParser(description=\"Process ArXiv JSON dataset.\")\n",
    "    parser.add_argument(\"--input_json\", type=str, default = \"/kaggle/input/arxiv/arxiv-metadata-oai-snapshot.json\", help=\"Path to the input NDJSON file.\")\n",
    "    parser.add_argument(\"--output_json\", type=str, default = \"/kaggle/working/arxiv_cs.json\", help=\"Path to the output NDJSON file.\")\n",
    "    return parser.parse_args()\n",
    "\n",
    "# Function to convert the latest 'created' date from the 'versions' field to a specific format\n",
    "def get_latest_time(element):\n",
    "    return time.strftime(\"%d %b %Y\", time.strptime(element[-1]['created'], \"%a, %d %b %Y %H:%M:%S %Z\"))\n",
    "\n",
    "# Function to convert the 'update_date' field to a specific format\n",
    "def get_latest_date(element):\n",
    "    return time.strftime(\"%d %b %Y\", time.strptime(element, \"%Y-%m-%d\"))\n",
    "\n",
    "def main():\n",
    "    args = parse_args()\n",
    "\n",
    "    # Loading the entire JSON dataset from the input file path\n",
    "    cs_arxiv_df = pl.read_ndjson(args.input_json)\n",
    "\n",
    "    # Filtering rows where the 'categories' column contains specific computer science categories\n",
    "    cs_arxiv_df = cs_arxiv_df.filter(pl.col(\"categories\").str.contains(r\"\\b(?:cs\\.(?:CV|LG|CL|AI|NE|RO))\\b\", strict=True))\n",
    "\n",
    "    # Initializing a new column '_time' with default value 0\n",
    "    cs_arxiv_df = cs_arxiv_df.with_columns(pl.lit(0, dtype=pl.Int64).alias('_time'))\n",
    "\n",
    "    # Updating the '_time' column with the latest version date or update date\n",
    "    cs_arxiv_df = cs_arxiv_df.with_columns(\n",
    "        pl.when(cs_arxiv_df['versions'].is_not_null())\n",
    "        .then(cs_arxiv_df['versions'].map_elements(get_latest_time,  return_dtype=pl.Utf8))\n",
    "        .otherwise(cs_arxiv_df['update_date'].map_elements(get_latest_date,  return_dtype=pl.Utf8))\n",
    "        .alias('_time')\n",
    "    )\n",
    "\n",
    "    # Columns to be dropped from the DataFrame\n",
    "    columns_to_drop = ['versions', 'authors_parsed', 'report-no', 'license', 'submitter']\n",
    "\n",
    "    # Dropping the specified columns based on the DataFrame type\n",
    "    cs_arxiv_df = cs_arxiv_df.drop(columns_to_drop)\n",
    "\n",
    "    # Writing the processed DataFrame to a new NDJSON file specified by the output path\n",
    "    cs_arxiv_df.write_ndjson(args.output_json)\n",
    "\n",
    "if __name__ == \"__main__\":\n",
    "    main()"
   ]
  },
  {
   "cell_type": "markdown",
   "id": "1dff33ff",
   "metadata": {
    "papermill": {
     "duration": 0.007008,
     "end_time": "2024-08-15T08:24:33.439626",
     "exception": false,
     "start_time": "2024-08-15T08:24:33.432618",
     "status": "completed"
    },
    "tags": []
   },
   "source": [
    "Time to execute the script! Feel free to have a look at the RAM during execution, and observe how the RAM frees once the script execution is done."
   ]
  },
  {
   "cell_type": "code",
   "execution_count": 3,
   "id": "4dc2e5da",
   "metadata": {
    "execution": {
     "iopub.execute_input": "2024-08-15T08:24:33.455389Z",
     "iopub.status.busy": "2024-08-15T08:24:33.455098Z",
     "iopub.status.idle": "2024-08-15T08:25:48.891777Z",
     "shell.execute_reply": "2024-08-15T08:25:48.890488Z"
    },
    "papermill": {
     "duration": 75.447383,
     "end_time": "2024-08-15T08:25:48.894311",
     "exception": false,
     "start_time": "2024-08-15T08:24:33.446928",
     "status": "completed"
    },
    "tags": []
   },
   "outputs": [],
   "source": [
    "# Run the df_build.py script\n",
    "!python df_build.py --input_json \"/kaggle/input/arxiv/arxiv-metadata-oai-snapshot.json\" --output_json \"/kaggle/working/arxiv_cs.json\""
   ]
  },
  {
   "cell_type": "markdown",
   "id": "915d4b9c",
   "metadata": {
    "papermill": {
     "duration": 0.007407,
     "end_time": "2024-08-15T08:25:48.910730",
     "exception": false,
     "start_time": "2024-08-15T08:25:48.903323",
     "status": "completed"
    },
    "tags": []
   },
   "source": [
    "## ☑️ Selecting Samples for Performance Verification"
   ]
  },
  {
   "cell_type": "markdown",
   "id": "b243c2cd",
   "metadata": {
    "papermill": {
     "duration": 0.007196,
     "end_time": "2024-08-15T08:25:48.925573",
     "exception": false,
     "start_time": "2024-08-15T08:25:48.918377",
     "status": "completed"
    },
    "tags": []
   },
   "source": [
    "To ensure our RAG system functions correctly and there are no mismatches in the indices or information, we will create a set of search queries, and select their expected results. These handpicked queries will serve as a small benchmark to verify the performance of our system once it is complete."
   ]
  },
  {
   "cell_type": "code",
   "execution_count": 4,
   "id": "e3b91d75",
   "metadata": {
    "execution": {
     "iopub.execute_input": "2024-08-15T08:25:48.942158Z",
     "iopub.status.busy": "2024-08-15T08:25:48.941830Z",
     "iopub.status.idle": "2024-08-15T08:25:49.971337Z",
     "shell.execute_reply": "2024-08-15T08:25:49.970470Z"
    },
    "papermill": {
     "duration": 1.040858,
     "end_time": "2024-08-15T08:25:49.974087",
     "exception": false,
     "start_time": "2024-08-15T08:25:48.933229",
     "status": "completed"
    },
    "tags": []
   },
   "outputs": [
    {
     "data": {
      "text/html": [
       "<div><style>\n",
       ".dataframe > thead > tr,\n",
       ".dataframe > tbody > tr {\n",
       "  text-align: right;\n",
       "  white-space: pre-wrap;\n",
       "}\n",
       "</style>\n",
       "<small>shape: (2, 10)</small><table border=\"1\" class=\"dataframe\"><thead><tr><th>id</th><th>authors</th><th>title</th><th>comments</th><th>journal-ref</th><th>doi</th><th>categories</th><th>abstract</th><th>update_date</th><th>_time</th></tr><tr><td>str</td><td>str</td><td>str</td><td>str</td><td>str</td><td>str</td><td>str</td><td>str</td><td>str</td><td>str</td></tr></thead><tbody><tr><td>&quot;0704.0047&quot;</td><td>&quot;T. Kosel and I. Grabec&quot;</td><td>&quot;Intelligent location of simult…</td><td>&quot;5 pages, 5 eps figures, uses I…</td><td>null</td><td>null</td><td>&quot;cs.NE cs.AI&quot;</td><td>&quot;  The intelligent acoustic emi…</td><td>&quot;2009-09-29&quot;</td><td>&quot;01 Apr 2007&quot;</td></tr><tr><td>&quot;0704.0050&quot;</td><td>&quot;T. Kosel and I. Grabec&quot;</td><td>&quot;Intelligent location of simult…</td><td>&quot;5 pages, 7 eps figures, uses I…</td><td>null</td><td>null</td><td>&quot;cs.NE cs.AI&quot;</td><td>&quot;  Part I describes an intellig…</td><td>&quot;2007-05-23&quot;</td><td>&quot;01 Apr 2007&quot;</td></tr></tbody></table></div>"
      ],
      "text/plain": [
       "shape: (2, 10)\n",
       "┌───────────┬───────────┬───────────┬───────────┬───┬───────────┬───────────┬───────────┬──────────┐\n",
       "│ id        ┆ authors   ┆ title     ┆ comments  ┆ … ┆ categorie ┆ abstract  ┆ update_da ┆ _time    │\n",
       "│ ---       ┆ ---       ┆ ---       ┆ ---       ┆   ┆ s         ┆ ---       ┆ te        ┆ ---      │\n",
       "│ str       ┆ str       ┆ str       ┆ str       ┆   ┆ ---       ┆ str       ┆ ---       ┆ str      │\n",
       "│           ┆           ┆           ┆           ┆   ┆ str       ┆           ┆ str       ┆          │\n",
       "╞═══════════╪═══════════╪═══════════╪═══════════╪═══╪═══════════╪═══════════╪═══════════╪══════════╡\n",
       "│ 0704.0047 ┆ T. Kosel  ┆ Intellige ┆ 5 pages,  ┆ … ┆ cs.NE     ┆ The intel ┆ 2009-09-2 ┆ 01 Apr   │\n",
       "│           ┆ and I.    ┆ nt        ┆ 5 eps     ┆   ┆ cs.AI     ┆ ligent    ┆ 9         ┆ 2007     │\n",
       "│           ┆ Grabec    ┆ location  ┆ figures,  ┆   ┆           ┆ acoustic  ┆           ┆          │\n",
       "│           ┆           ┆ of        ┆ uses I…   ┆   ┆           ┆ emi…      ┆           ┆          │\n",
       "│           ┆           ┆ simult…   ┆           ┆   ┆           ┆           ┆           ┆          │\n",
       "│ 0704.0050 ┆ T. Kosel  ┆ Intellige ┆ 5 pages,  ┆ … ┆ cs.NE     ┆ Part I    ┆ 2007-05-2 ┆ 01 Apr   │\n",
       "│           ┆ and I.    ┆ nt        ┆ 7 eps     ┆   ┆ cs.AI     ┆ describes ┆ 3         ┆ 2007     │\n",
       "│           ┆ Grabec    ┆ location  ┆ figures,  ┆   ┆           ┆ an        ┆           ┆          │\n",
       "│           ┆           ┆ of        ┆ uses I…   ┆   ┆           ┆ intellig… ┆           ┆          │\n",
       "│           ┆           ┆ simult…   ┆           ┆   ┆           ┆           ┆           ┆          │\n",
       "└───────────┴───────────┴───────────┴───────────┴───┴───────────┴───────────┴───────────┴──────────┘"
      ]
     },
     "execution_count": 4,
     "metadata": {},
     "output_type": "execute_result"
    }
   ],
   "source": [
    "# Load the small JSON dataset consisting of ArXiv CS abstracts\n",
    "import polars as pl\n",
    "cs_arxiv = pl.read_ndjson('/kaggle/working/arxiv_cs.json')\n",
    "cs_arxiv.head(2)"
   ]
  },
  {
   "cell_type": "markdown",
   "id": "954e9747",
   "metadata": {
    "papermill": {
     "duration": 0.007443,
     "end_time": "2024-08-15T08:25:49.989516",
     "exception": false,
     "start_time": "2024-08-15T08:25:49.982073",
     "status": "completed"
    },
    "tags": []
   },
   "source": [
    "Here, we pick the search queries `mistral`,`mixtral`, `gemini`, `ColBERTv2` and the DOI of their respective papers (`2310.06825`, `2401.04088`, `2312.11805`, `2112.01488` )"
   ]
  },
  {
   "cell_type": "code",
   "execution_count": 5,
   "id": "2a5d96ff",
   "metadata": {
    "execution": {
     "iopub.execute_input": "2024-08-15T08:25:50.006824Z",
     "iopub.status.busy": "2024-08-15T08:25:50.005980Z",
     "iopub.status.idle": "2024-08-15T08:25:50.020216Z",
     "shell.execute_reply": "2024-08-15T08:25:50.019405Z"
    },
    "papermill": {
     "duration": 0.025458,
     "end_time": "2024-08-15T08:25:50.022409",
     "exception": false,
     "start_time": "2024-08-15T08:25:49.996951",
     "status": "completed"
    },
    "tags": []
   },
   "outputs": [],
   "source": [
    "search_queries = {'mistral':'2310.06825',\n",
    "                  'mixtral': '2401.04088',\n",
    "                  'gemini': '2312.11805',\n",
    "                  'ColBERTv2': '2112.01488',}\n",
    "search_ids = list(search_queries.values())\n",
    "## Get the metadata from the DOI/search_ids in a dataframe\n",
    "filtered_df = cs_arxiv.filter(pl.col('id').is_in(search_ids))"
   ]
  },
  {
   "cell_type": "markdown",
   "id": "1f56faa6",
   "metadata": {
    "papermill": {
     "duration": 0.007374,
     "end_time": "2024-08-15T08:25:50.037408",
     "exception": false,
     "start_time": "2024-08-15T08:25:50.030034",
     "status": "completed"
    },
    "tags": []
   },
   "source": [
    "Let's save this dataset in a JSON file"
   ]
  },
  {
   "cell_type": "code",
   "execution_count": 6,
   "id": "8a433f55",
   "metadata": {
    "execution": {
     "iopub.execute_input": "2024-08-15T08:25:50.053439Z",
     "iopub.status.busy": "2024-08-15T08:25:50.053138Z",
     "iopub.status.idle": "2024-08-15T08:25:50.057592Z",
     "shell.execute_reply": "2024-08-15T08:25:50.056804Z"
    },
    "papermill": {
     "duration": 0.014561,
     "end_time": "2024-08-15T08:25:50.059358",
     "exception": false,
     "start_time": "2024-08-15T08:25:50.044797",
     "status": "completed"
    },
    "tags": []
   },
   "outputs": [],
   "source": [
    "filtered_df.write_ndjson('/kaggle/working/arxiv_cs_verify.json')"
   ]
  },
  {
   "cell_type": "markdown",
   "id": "6b6394bd",
   "metadata": {
    "papermill": {
     "duration": 0.007195,
     "end_time": "2024-08-15T08:25:50.074065",
     "exception": false,
     "start_time": "2024-08-15T08:25:50.066870",
     "status": "completed"
    },
    "tags": []
   },
   "source": [
    "## 🗃️ Indexing Abstracts"
   ]
  },
  {
   "cell_type": "code",
   "execution_count": 7,
   "id": "80ce139c",
   "metadata": {
    "execution": {
     "iopub.execute_input": "2024-08-15T08:25:50.090052Z",
     "iopub.status.busy": "2024-08-15T08:25:50.089781Z",
     "iopub.status.idle": "2024-08-15T08:25:50.096713Z",
     "shell.execute_reply": "2024-08-15T08:25:50.096037Z"
    },
    "papermill": {
     "duration": 0.01703,
     "end_time": "2024-08-15T08:25:50.098515",
     "exception": false,
     "start_time": "2024-08-15T08:25:50.081485",
     "status": "completed"
    },
    "tags": []
   },
   "outputs": [],
   "source": [
    "# Create a directory where we can store the data\n",
    "import os\n",
    "upload_folder = 'arxiv'\n",
    "upload_dir = os.path.join('/kaggle/working/', upload_folder)\n",
    "os.makedirs(upload_dir)"
   ]
  },
  {
   "cell_type": "markdown",
   "id": "9db32c74",
   "metadata": {
    "papermill": {
     "duration": 0.007342,
     "end_time": "2024-08-15T08:25:50.113384",
     "exception": false,
     "start_time": "2024-08-15T08:25:50.106042",
     "status": "completed"
    },
    "tags": []
   },
   "source": [
    "### Picking the metadata"
   ]
  },
  {
   "cell_type": "markdown",
   "id": "68585498",
   "metadata": {
    "papermill": {
     "duration": 0.007274,
     "end_time": "2024-08-15T08:25:50.128213",
     "exception": false,
     "start_time": "2024-08-15T08:25:50.120939",
     "status": "completed"
    },
    "tags": []
   },
   "source": [
    "Here we would be picking which metadata we want to store along with the abstracts. While not all metadata might be useful for our case, we would store the DOI, author names, paper title, and the time the paper last updated (denoted by `doi`, `authors`, `title` and `_time` respectively) along with the abstracts."
   ]
  },
  {
   "cell_type": "code",
   "execution_count": 8,
   "id": "4db6a39c",
   "metadata": {
    "execution": {
     "iopub.execute_input": "2024-08-15T08:25:50.144226Z",
     "iopub.status.busy": "2024-08-15T08:25:50.143953Z",
     "iopub.status.idle": "2024-08-15T08:25:51.409248Z",
     "shell.execute_reply": "2024-08-15T08:25:51.408243Z"
    },
    "papermill": {
     "duration": 1.275919,
     "end_time": "2024-08-15T08:25:51.411634",
     "exception": false,
     "start_time": "2024-08-15T08:25:50.135715",
     "status": "completed"
    },
    "tags": []
   },
   "outputs": [],
   "source": [
    "abstracts = list(cs_arxiv['abstract'])\n",
    "ids = list(cs_arxiv['id'])\n",
    "metadata = cs_arxiv[['doi','authors','title', '_time']]\n",
    "\n",
    "# convert metadata to string to avoid Nonetype error \n",
    "if isinstance(metadata, pl.DataFrame):\n",
    "    metadata = metadata.fill_null('None')\n",
    "    metadata = metadata.to_dicts()\n",
    "else:\n",
    "    raise Exception"
   ]
  },
  {
   "cell_type": "markdown",
   "id": "fb5e5c6f",
   "metadata": {
    "papermill": {
     "duration": 0.007327,
     "end_time": "2024-08-15T08:25:51.426907",
     "exception": false,
     "start_time": "2024-08-15T08:25:51.419580",
     "status": "completed"
    },
    "tags": []
   },
   "source": [
    "### Loading Pre-trained ColBERTv2 and Indexing Abstracts"
   ]
  },
  {
   "cell_type": "markdown",
   "id": "30bf037e",
   "metadata": {
    "papermill": {
     "duration": 0.007408,
     "end_time": "2024-08-15T08:25:51.441911",
     "exception": false,
     "start_time": "2024-08-15T08:25:51.434503",
     "status": "completed"
    },
    "tags": []
   },
   "source": [
    "First, we load the pretrained ColBERTv2 model using the Ragatouille library."
   ]
  },
  {
   "cell_type": "code",
   "execution_count": 9,
   "id": "b79e2619",
   "metadata": {
    "execution": {
     "iopub.execute_input": "2024-08-15T08:25:51.458086Z",
     "iopub.status.busy": "2024-08-15T08:25:51.457762Z",
     "iopub.status.idle": "2024-08-15T08:26:11.308342Z",
     "shell.execute_reply": "2024-08-15T08:26:11.307350Z"
    },
    "papermill": {
     "duration": 19.861173,
     "end_time": "2024-08-15T08:26:11.310519",
     "exception": false,
     "start_time": "2024-08-15T08:25:51.449346",
     "status": "completed"
    },
    "tags": []
   },
   "outputs": [
    {
     "data": {
      "application/vnd.jupyter.widget-view+json": {
       "model_id": "b7593d7c013f4a6a9b50fb1b5fc3fc15",
       "version_major": 2,
       "version_minor": 0
      },
      "text/plain": [
       "artifact.metadata:   0%|          | 0.00/1.63k [00:00<?, ?B/s]"
      ]
     },
     "metadata": {},
     "output_type": "display_data"
    },
    {
     "data": {
      "application/vnd.jupyter.widget-view+json": {
       "model_id": "bcc626ec6bd84109bbf7e93ee7bfa319",
       "version_major": 2,
       "version_minor": 0
      },
      "text/plain": [
       "config.json:   0%|          | 0.00/743 [00:00<?, ?B/s]"
      ]
     },
     "metadata": {},
     "output_type": "display_data"
    },
    {
     "data": {
      "application/vnd.jupyter.widget-view+json": {
       "model_id": "8f77667983124557b937796f018739dc",
       "version_major": 2,
       "version_minor": 0
      },
      "text/plain": [
       "model.safetensors:   0%|          | 0.00/438M [00:00<?, ?B/s]"
      ]
     },
     "metadata": {},
     "output_type": "display_data"
    },
    {
     "data": {
      "application/vnd.jupyter.widget-view+json": {
       "model_id": "d19c2eec724743b6bb48c0a26165ada9",
       "version_major": 2,
       "version_minor": 0
      },
      "text/plain": [
       "tokenizer_config.json:   0%|          | 0.00/405 [00:00<?, ?B/s]"
      ]
     },
     "metadata": {},
     "output_type": "display_data"
    },
    {
     "data": {
      "application/vnd.jupyter.widget-view+json": {
       "model_id": "3f3a1d6b367b4074ad5df6e7186cac89",
       "version_major": 2,
       "version_minor": 0
      },
      "text/plain": [
       "vocab.txt:   0%|          | 0.00/232k [00:00<?, ?B/s]"
      ]
     },
     "metadata": {},
     "output_type": "display_data"
    },
    {
     "data": {
      "application/vnd.jupyter.widget-view+json": {
       "model_id": "5e04be5748d94b789ee048e02f1cb968",
       "version_major": 2,
       "version_minor": 0
      },
      "text/plain": [
       "tokenizer.json:   0%|          | 0.00/466k [00:00<?, ?B/s]"
      ]
     },
     "metadata": {},
     "output_type": "display_data"
    },
    {
     "data": {
      "application/vnd.jupyter.widget-view+json": {
       "model_id": "20626b2639a94e8481872c22d851e8ea",
       "version_major": 2,
       "version_minor": 0
      },
      "text/plain": [
       "special_tokens_map.json:   0%|          | 0.00/112 [00:00<?, ?B/s]"
      ]
     },
     "metadata": {},
     "output_type": "display_data"
    },
    {
     "name": "stdout",
     "output_type": "stream",
     "text": [
      "CPU times: user 9.8 s, sys: 2.48 s, total: 12.3 s\n",
      "Wall time: 19.8 s\n"
     ]
    }
   ],
   "source": [
    "%%time\n",
    "\n",
    "from ragatouille import RAGPretrainedModel\n",
    "# We load the pretrained model \"colbert-ir/colbertv2.0\" and specify a location to store the index\n",
    "Colbertv2 = RAGPretrainedModel.from_pretrained(\"colbert-ir/colbertv2.0\", index_root= upload_dir)"
   ]
  },
  {
   "cell_type": "markdown",
   "id": "7a6ddd85",
   "metadata": {
    "papermill": {
     "duration": 0.01006,
     "end_time": "2024-08-15T08:26:11.329852",
     "exception": false,
     "start_time": "2024-08-15T08:26:11.319792",
     "status": "completed"
    },
    "tags": []
   },
   "source": [
    "Now this is what we have been working for - time to start indexing!"
   ]
  },
  {
   "cell_type": "code",
   "execution_count": 10,
   "id": "82548d7b",
   "metadata": {
    "execution": {
     "iopub.execute_input": "2024-08-15T08:26:11.349540Z",
     "iopub.status.busy": "2024-08-15T08:26:11.348958Z",
     "iopub.status.idle": "2024-08-15T11:07:43.258983Z",
     "shell.execute_reply": "2024-08-15T11:07:43.257865Z"
    },
    "papermill": {
     "duration": 9691.922298,
     "end_time": "2024-08-15T11:07:43.261142",
     "exception": false,
     "start_time": "2024-08-15T08:26:11.338844",
     "status": "completed"
    },
    "tags": []
   },
   "outputs": [
    {
     "name": "stdout",
     "output_type": "stream",
     "text": [
      "\n",
      "\n",
      "[Aug 15, 08:26:13] #> Creating directory /kaggle/working/arxiv/colbert/indexes/arxiv_colbert \n",
      "\n",
      "\n",
      "[Aug 15, 08:26:17] [0] \t\t #> Encoding 108609 passages..\n",
      "[Aug 15, 08:57:24] [0] \t\t avg_doclen_est = 203.3844757080078 \t len(local_sample) = 108,609\n",
      "[Aug 15, 08:57:39] [0] \t\t Creating 131,072 partitions.\n",
      "[Aug 15, 08:57:39] [0] \t\t *Estimated* 78,095,367 embeddings.\n",
      "[Aug 15, 08:57:39] [0] \t\t #> Saving the indexing plan to /kaggle/working/arxiv/colbert/indexes/arxiv_colbert/plan.json ..\n",
      "Clustering 22039384 points in 128D to 131072 clusters, redo 1 times, 4 iterations\n",
      "  Preprocessing in 2.83 s\n",
      "[Aug 15, 09:06:58] Loading decompress_residuals_cpp extension (set COLBERT_LOAD_TORCH_EXTENSION_VERBOSE=True for more info)...\n",
      "[Aug 15, 09:08:10] Loading packbits_cpp extension (set COLBERT_LOAD_TORCH_EXTENSION_VERBOSE=True for more info)...\n",
      "[0.028, 0.028, 0.029, 0.026, 0.027, 0.031, 0.03, 0.026, 0.027, 0.028, 0.028, 0.028, 0.028, 0.029, 0.026, 0.03, 0.025, 0.028, 0.026, 0.027, 0.028, 0.029, 0.027, 0.028, 0.027, 0.027, 0.029, 0.027, 0.028, 0.028, 0.028, 0.03, 0.028, 0.026, 0.027, 0.026, 0.029, 0.027, 0.027, 0.031, 0.029, 0.028, 0.028, 0.029, 0.027, 0.027, 0.027, 0.031, 0.028, 0.027, 0.027, 0.028, 0.031, 0.029, 0.027, 0.027, 0.032, 0.028, 0.032, 0.028, 0.027, 0.03, 0.029, 0.029, 0.029, 0.029, 0.03, 0.029, 0.028, 0.026, 0.031, 0.026, 0.029, 0.03, 0.028, 0.028, 0.031, 0.029, 0.03, 0.032, 0.031, 0.027, 0.029, 0.029, 0.027, 0.028, 0.027, 0.028, 0.026, 0.03, 0.027, 0.03, 0.027, 0.031, 0.027, 0.028, 0.029, 0.027, 0.028, 0.028, 0.028, 0.029, 0.029, 0.028, 0.03, 0.027, 0.028, 0.027, 0.029, 0.028, 0.03, 0.028, 0.028, 0.027, 0.028, 0.027, 0.03, 0.029, 0.027, 0.03, 0.027, 0.028, 0.029, 0.029, 0.026, 0.033, 0.029, 0.028]\n"
     ]
    },
    {
     "name": "stderr",
     "output_type": "stream",
     "text": [
      "0it [00:00, ?it/s]"
     ]
    },
    {
     "name": "stdout",
     "output_type": "stream",
     "text": [
      "[Aug 15, 09:09:22] [0] \t\t #> Encoding 25000 passages..\n"
     ]
    },
    {
     "name": "stderr",
     "output_type": "stream",
     "text": [
      "1it [07:34, 454.29s/it]"
     ]
    },
    {
     "name": "stdout",
     "output_type": "stream",
     "text": [
      "[Aug 15, 09:16:56] [0] \t\t #> Encoding 25000 passages..\n"
     ]
    },
    {
     "name": "stderr",
     "output_type": "stream",
     "text": [
      "2it [15:12, 456.77s/it]"
     ]
    },
    {
     "name": "stdout",
     "output_type": "stream",
     "text": [
      "[Aug 15, 09:24:34] [0] \t\t #> Encoding 25000 passages..\n"
     ]
    },
    {
     "name": "stderr",
     "output_type": "stream",
     "text": [
      "3it [22:51, 457.71s/it]"
     ]
    },
    {
     "name": "stdout",
     "output_type": "stream",
     "text": [
      "[Aug 15, 09:32:13] [0] \t\t #> Encoding 25000 passages..\n"
     ]
    },
    {
     "name": "stderr",
     "output_type": "stream",
     "text": [
      "4it [30:30, 458.20s/it]"
     ]
    },
    {
     "name": "stdout",
     "output_type": "stream",
     "text": [
      "[Aug 15, 09:39:52] [0] \t\t #> Encoding 25000 passages..\n"
     ]
    },
    {
     "name": "stderr",
     "output_type": "stream",
     "text": [
      "5it [38:10, 458.66s/it]"
     ]
    },
    {
     "name": "stdout",
     "output_type": "stream",
     "text": [
      "[Aug 15, 09:47:32] [0] \t\t #> Encoding 25000 passages..\n"
     ]
    },
    {
     "name": "stderr",
     "output_type": "stream",
     "text": [
      "6it [45:50, 459.34s/it]"
     ]
    },
    {
     "name": "stdout",
     "output_type": "stream",
     "text": [
      "[Aug 15, 09:55:12] [0] \t\t #> Encoding 25000 passages..\n"
     ]
    },
    {
     "name": "stderr",
     "output_type": "stream",
     "text": [
      "7it [53:28, 458.98s/it]"
     ]
    },
    {
     "name": "stdout",
     "output_type": "stream",
     "text": [
      "[Aug 15, 10:02:51] [0] \t\t #> Encoding 25000 passages..\n"
     ]
    },
    {
     "name": "stderr",
     "output_type": "stream",
     "text": [
      "8it [1:01:10, 459.76s/it]"
     ]
    },
    {
     "name": "stdout",
     "output_type": "stream",
     "text": [
      "[Aug 15, 10:10:32] [0] \t\t #> Encoding 25000 passages..\n"
     ]
    },
    {
     "name": "stderr",
     "output_type": "stream",
     "text": [
      "9it [1:08:52, 460.51s/it]"
     ]
    },
    {
     "name": "stdout",
     "output_type": "stream",
     "text": [
      "[Aug 15, 10:18:14] [0] \t\t #> Encoding 25000 passages..\n"
     ]
    },
    {
     "name": "stderr",
     "output_type": "stream",
     "text": [
      "10it [1:16:34, 460.88s/it]"
     ]
    },
    {
     "name": "stdout",
     "output_type": "stream",
     "text": [
      "[Aug 15, 10:25:56] [0] \t\t #> Encoding 25000 passages..\n"
     ]
    },
    {
     "name": "stderr",
     "output_type": "stream",
     "text": [
      "11it [1:24:16, 461.31s/it]"
     ]
    },
    {
     "name": "stdout",
     "output_type": "stream",
     "text": [
      "[Aug 15, 10:33:38] [0] \t\t #> Encoding 25000 passages..\n"
     ]
    },
    {
     "name": "stderr",
     "output_type": "stream",
     "text": [
      "12it [1:31:58, 461.56s/it]"
     ]
    },
    {
     "name": "stdout",
     "output_type": "stream",
     "text": [
      "[Aug 15, 10:41:20] [0] \t\t #> Encoding 25000 passages..\n"
     ]
    },
    {
     "name": "stderr",
     "output_type": "stream",
     "text": [
      "13it [1:39:41, 461.81s/it]"
     ]
    },
    {
     "name": "stdout",
     "output_type": "stream",
     "text": [
      "[Aug 15, 10:49:03] [0] \t\t #> Encoding 25000 passages..\n"
     ]
    },
    {
     "name": "stderr",
     "output_type": "stream",
     "text": [
      "14it [1:47:24, 462.30s/it]"
     ]
    },
    {
     "name": "stdout",
     "output_type": "stream",
     "text": [
      "[Aug 15, 10:56:46] [0] \t\t #> Encoding 25000 passages..\n"
     ]
    },
    {
     "name": "stderr",
     "output_type": "stream",
     "text": [
      "15it [1:55:08, 462.67s/it]"
     ]
    },
    {
     "name": "stdout",
     "output_type": "stream",
     "text": [
      "[Aug 15, 11:04:30] [0] \t\t #> Encoding 8979 passages..\n"
     ]
    },
    {
     "name": "stderr",
     "output_type": "stream",
     "text": [
      "16it [1:57:52, 442.02s/it]\n",
      "100%|██████████| 16/16 [00:00<00:00, 83.32it/s]\n"
     ]
    },
    {
     "name": "stdout",
     "output_type": "stream",
     "text": [
      "[Aug 15, 11:07:19] #> Optimizing IVF to store map from centroids to list of pids..\n",
      "[Aug 15, 11:07:19] #> Building the emb2pid mapping..\n",
      "[Aug 15, 11:07:20] len(emb2pid) = 78078959\n"
     ]
    },
    {
     "name": "stderr",
     "output_type": "stream",
     "text": [
      "100%|██████████| 131072/131072 [00:14<00:00, 8926.98it/s]\n"
     ]
    },
    {
     "name": "stdout",
     "output_type": "stream",
     "text": [
      "[Aug 15, 11:07:37] #> Saved optimized IVF to /kaggle/working/arxiv/colbert/indexes/arxiv_colbert/ivf.pid.pt\n",
      "Done indexing!\n",
      "CPU times: user 2h 41min 33s, sys: 5min 18s, total: 2h 46min 51s\n",
      "Wall time: 2h 41min 31s\n"
     ]
    },
    {
     "data": {
      "text/plain": [
       "'/kaggle/working/arxiv/colbert/indexes/arxiv_colbert'"
      ]
     },
     "execution_count": 10,
     "metadata": {},
     "output_type": "execute_result"
    }
   ],
   "source": [
    "%%time\n",
    "Colbertv2.index(collection = abstracts, \n",
    "        document_ids = ids,\n",
    "        document_metadatas = metadata,\n",
    "        index_name = 'arxiv_colbert',\n",
    "        max_document_length = 512,\n",
    "        split_documents = False,\n",
    "        bsize = 128\n",
    "        )"
   ]
  },
  {
   "cell_type": "markdown",
   "id": "1ef939a2",
   "metadata": {
    "papermill": {
     "duration": 0.024035,
     "end_time": "2024-08-15T11:07:43.310104",
     "exception": false,
     "start_time": "2024-08-15T11:07:43.286069",
     "status": "completed"
    },
    "tags": []
   },
   "source": [
    "## 📊 Verifying Indices"
   ]
  },
  {
   "cell_type": "markdown",
   "id": "30958580",
   "metadata": {
    "papermill": {
     "duration": 0.023677,
     "end_time": "2024-08-15T11:07:43.358138",
     "exception": false,
     "start_time": "2024-08-15T11:07:43.334461",
     "status": "completed"
    },
    "tags": []
   },
   "source": [
    "All right! Now that the embeddings have been generated, lets check the retrieval performance. We would use the previously handpicked queries and see if our expected result is within the top 10 queries or not. We would also match the retrieved result content (abstract, title) with the expected content "
   ]
  },
  {
   "cell_type": "code",
   "execution_count": 11,
   "id": "7f308e1d",
   "metadata": {
    "execution": {
     "iopub.execute_input": "2024-08-15T11:07:43.408358Z",
     "iopub.status.busy": "2024-08-15T11:07:43.407755Z",
     "iopub.status.idle": "2024-08-15T11:07:48.663296Z",
     "shell.execute_reply": "2024-08-15T11:07:48.662339Z"
    },
    "papermill": {
     "duration": 5.283745,
     "end_time": "2024-08-15T11:07:48.665902",
     "exception": false,
     "start_time": "2024-08-15T11:07:43.382157",
     "status": "completed"
    },
    "tags": []
   },
   "outputs": [
    {
     "name": "stdout",
     "output_type": "stream",
     "text": [
      "Loading searcher for index arxiv_colbert for the first time... This may take a few seconds\n",
      "[Aug 15, 11:07:45] #> Loading codec...\n",
      "[Aug 15, 11:07:45] #> Loading IVF...\n",
      "[Aug 15, 11:07:45] #> Loading doclens...\n"
     ]
    },
    {
     "name": "stderr",
     "output_type": "stream",
     "text": [
      "100%|██████████| 16/16 [00:00<00:00, 680.93it/s]"
     ]
    },
    {
     "name": "stdout",
     "output_type": "stream",
     "text": [
      "[Aug 15, 11:07:45] #> Loading codes and residuals...\n"
     ]
    },
    {
     "name": "stderr",
     "output_type": "stream",
     "text": [
      "\n",
      "100%|██████████| 16/16 [00:02<00:00,  6.23it/s]\n"
     ]
    },
    {
     "name": "stdout",
     "output_type": "stream",
     "text": [
      "Searcher loaded!\n",
      "\n",
      "#> QueryTokenizer.tensorize(batch_text[0], batch_background[0], bsize) ==\n",
      "#> Input: . What is mistral, \t\t True, \t\t None\n",
      "#> Output IDs: torch.Size([32]), tensor([  101,     1,  2054,  2003, 11094,  7941,   102,   103,   103,   103,\n",
      "          103,   103,   103,   103,   103,   103,   103,   103,   103,   103,\n",
      "          103,   103,   103,   103,   103,   103,   103,   103,   103,   103,\n",
      "          103,   103], device='cuda:0')\n",
      "#> Output Mask: torch.Size([32]), tensor([1, 1, 1, 1, 1, 1, 1, 0, 0, 0, 0, 0, 0, 0, 0, 0, 0, 0, 0, 0, 0, 0, 0, 0,\n",
      "        0, 0, 0, 0, 0, 0, 0, 0], device='cuda:0')\n",
      "\n"
     ]
    },
    {
     "data": {
      "text/plain": [
       "[{'content': '  In a digital epoch where cyberspace is the emerging nexus of geopolitical\\ncontention, the melding of information operations and Large Language Models\\n(LLMs) heralds a paradigm shift, replete with immense opportunities and\\nintricate challenges. As tools like the Mistral 7B LLM (Mistral, 2023)\\ndemocratise access to LLM capabilities (Jin et al., 2023), a vast spectrum of\\nactors, from sovereign nations to rogue entities (Howard et al., 2023), find\\nthemselves equipped with potent narrative-shaping instruments (Goldstein et\\nal., 2023). This paper puts forth a framework for navigating this brave new\\nworld in the \"ClausewitzGPT\" equation. This novel formulation not only seeks to\\nquantify the risks inherent in machine-speed LLM-augmented operations but also\\nunderscores the vital role of autonomous AI agents (Wang, Xie, et al., 2023).\\nThese agents, embodying ethical considerations (Hendrycks et al., 2021), emerge\\nas indispensable components (Wang, Ma, et al., 2023), ensuring that as we race\\nforward, we do not lose sight of moral compasses and societal imperatives.\\n  Mathematically underpinned and inspired by the timeless tenets of\\nClausewitz\\'s military strategy (Clausewitz, 1832), this thesis delves into the\\nintricate dynamics of AI-augmented information operations. With references to\\nrecent findings and research (Department of State, 2023), it highlights the\\nstaggering year-on-year growth of AI information campaigns (Evgeny Pashentsev,\\n2023), stressing the urgency of our current juncture. The synthesis of\\nEnlightenment thinking, and Clausewitz\\'s principles provides a foundational\\nlens, emphasising the imperative of clear strategic vision, ethical\\nconsiderations, and holistic understanding in the face of rapid technological\\nadvancement.\\n',\n",
       "  'score': 21.890625,\n",
       "  'rank': 1,\n",
       "  'document_id': '2310.07099',\n",
       "  'passage_id': 309429,\n",
       "  'document_metadata': {'doi': 'None',\n",
       "   'authors': 'Benjamin Kereopa-Yorke',\n",
       "   'title': 'ClausewitzGPT Framework: A New Frontier in Theoretical Large Language\\n  Model Enhanced Information Operations',\n",
       "   '_time': '11 Oct 2023'}},\n",
       " {'content': '  Breeze-7B is an open-source language model based on Mistral-7B, designed to\\naddress the need for improved language comprehension and chatbot-oriented\\ncapabilities in Traditional Chinese. This technical report provides an overview\\nof the additional pretraining, finetuning, and evaluation stages for the\\nBreeze-7B model. The Breeze-7B family of base and chat models exhibits good\\nperformance on language comprehension and chatbot-oriented tasks, reaching the\\ntop in several benchmarks among models comparable in its complexity class.\\n',\n",
       "  'score': 21.328125,\n",
       "  'rank': 2,\n",
       "  'document_id': '2403.02712',\n",
       "  'passage_id': 341208,\n",
       "  'document_metadata': {'doi': 'None',\n",
       "   'authors': 'Chan-Jan Hsu, Chang-Le Liu, Feng-Ting Liao, Po-Chun Hsu, Yi-Chang\\n  Chen, Da-Shan Shiu',\n",
       "   'title': 'Breeze-7B Technical Report',\n",
       "   '_time': '03 Apr 2024'}},\n",
       " {'content': \"  This paper introduces fourteen novel datasets for the evaluation of Large\\nLanguage Models' safety in the context of enterprise tasks. A method was\\ndevised to evaluate a model's safety, as determined by its ability to follow\\ninstructions and output factual, unbiased, grounded, and appropriate content.\\nIn this research, we used OpenAI GPT as point of comparison since it excels at\\nall levels of safety. On the open-source side, for smaller models, Meta Llama2\\nperforms well at factuality and toxicity but has the highest propensity for\\nhallucination. Mistral hallucinates the least but cannot handle toxicity well.\\nIt performs well in a dataset mixing several tasks and safety vectors in a\\nnarrow vertical domain. Gemma, the newly introduced open-source model based on\\nGoogle Gemini, is generally balanced but trailing behind. When engaging in\\nback-and-forth conversation (multi-turn prompts), we find that the safety of\\nopen-source models degrades significantly. Aside from OpenAI's GPT, Mistral is\\nthe only model that still performed well in multi-turn tests.\\n\",\n",
       "  'score': 21.328125,\n",
       "  'rank': 3,\n",
       "  'document_id': '2404.09785',\n",
       "  'passage_id': 351694,\n",
       "  'document_metadata': {'doi': 'None',\n",
       "   'authors': 'David Nadeau, Mike Kroutikov, Karen McNeil, Simon Baribeau',\n",
       "   'title': 'Benchmarking Llama2, Mistral, Gemma and GPT for Factuality, Toxicity,\\n  Bias and Propensity for Hallucinations',\n",
       "   '_time': '15 Apr 2024'}},\n",
       " {'content': '  We introduce Mistral 7B v0.1, a 7-billion-parameter language model engineered\\nfor superior performance and efficiency. Mistral 7B outperforms Llama 2 13B\\nacross all evaluated benchmarks, and Llama 1 34B in reasoning, mathematics, and\\ncode generation. Our model leverages grouped-query attention (GQA) for faster\\ninference, coupled with sliding window attention (SWA) to effectively handle\\nsequences of arbitrary length with a reduced inference cost. We also provide a\\nmodel fine-tuned to follow instructions, Mistral 7B -- Instruct, that surpasses\\nthe Llama 2 13B -- Chat model both on human and automated benchmarks. Our\\nmodels are released under the Apache 2.0 license.\\n',\n",
       "  'score': 21.25,\n",
       "  'rank': 4,\n",
       "  'document_id': '2310.06825',\n",
       "  'passage_id': 309335,\n",
       "  'document_metadata': {'doi': 'None',\n",
       "   'authors': \"Albert Q. Jiang, Alexandre Sablayrolles, Arthur Mensch, Chris Bamford,\\n  Devendra Singh Chaplot, Diego de las Casas, Florian Bressand, Gianna Lengyel,\\n  Guillaume Lample, Lucile Saulnier, L\\\\'elio Renard Lavaud, Marie-Anne Lachaux,\\n  Pierre Stock, Teven Le Scao, Thibaut Lavril, Thomas Wang, Timoth\\\\'ee Lacroix,\\n  William El Sayed\",\n",
       "   'title': 'Mistral 7B',\n",
       "   '_time': '10 Oct 2023'}},\n",
       " {'content': '  This paper describes our approach to the SemEval-2024 safe biomedical Natural\\nLanguage Inference for Clinical Trials (NLI4CT) task, which concerns\\nclassifying statements about Clinical Trial Reports (CTRs). We explored the\\ncapabilities of Mistral-7B, a generalist open-source Large Language Model\\n(LLM). We developed a prompt for the NLI4CT task, and fine-tuned a quantized\\nversion of the model using an augmented version of the training dataset. The\\nexperimental results show that this approach can produce notable results in\\nterms of the macro F1-score, while having limitations in terms of faithfulness\\nand consistency. All the developed code is publicly available on a GitHub\\nrepository\\n',\n",
       "  'score': 20.84375,\n",
       "  'rank': 5,\n",
       "  'document_id': '2408.03127',\n",
       "  'passage_id': 380422,\n",
       "  'document_metadata': {'doi': '10.18653/v1/2024.semeval-1.185',\n",
       "   'authors': 'Artur Guimar\\\\~aes, Bruno Martins and Jo\\\\~ao Magalh\\\\~aes',\n",
       "   'title': 'Lisbon Computational Linguists at SemEval-2024 Task 2: Using A Mistral\\n  7B Model and Data Augmentation',\n",
       "   '_time': '06 Aug 2024'}},\n",
       " {'content': '  Domain-specific Entity Recognition holds significant importance in legal\\ncontexts, serving as a fundamental task that supports various applications such\\nas question-answering systems, text summarization, machine translation,\\nsentiment analysis, and information retrieval specifically within case law\\ndocuments. Recent advancements have highlighted the efficacy of Large Language\\nModels in natural language processing tasks, demonstrating their capability to\\naccurately detect and classify domain-specific facts (entities) from\\nspecialized texts like clinical and financial documents. This research\\ninvestigates the application of Large Language Models in identifying\\ndomain-specific entities (e.g., courts, petitioner, judge, lawyer, respondents,\\nFIR nos.) within case law documents, with a specific focus on their aptitude\\nfor handling domain-specific language complexity and contextual variations. The\\nstudy evaluates the performance of state-of-the-art Large Language Model\\narchitectures, including Large Language Model Meta AI 3, Mistral, and Gemma, in\\nthe context of extracting judicial facts tailored to Indian judicial texts.\\nMistral and Gemma emerged as the top-performing models, showcasing balanced\\nprecision and recall crucial for accurate entity identification. These findings\\nconfirm the value of Large Language Models in judicial documents and\\ndemonstrate how they can facilitate and quicken scientific research by\\nproducing precise, organised data outputs that are appropriate for in-depth\\nexamination.\\n',\n",
       "  'score': 20.609375,\n",
       "  'rank': 6,\n",
       "  'document_id': '2407.05786',\n",
       "  'passage_id': 373454,\n",
       "  'document_metadata': {'doi': 'None',\n",
       "   'authors': 'Atin Sakkeer Hussain, Anu Thomas',\n",
       "   'title': 'Large Language Models for Judicial Entity Extraction: A Comparative\\n  Study',\n",
       "   '_time': '08 Jul 2024'}},\n",
       " {'content': '  Large language models have gained considerable interest for their impressive\\nperformance on various tasks. Within this domain, ChatGPT and GPT-4, developed\\nby OpenAI, and the Gemini, developed by Google, have emerged as particularly\\npopular among early adopters. Additionally, Mixtral by Mistral AI and Claude by\\nAnthropic are newly released, further expanding the landscape of advanced\\nlanguage models. These models are viewed as disruptive technologies with\\napplications spanning customer service, education, healthcare, and finance.\\nMore recently, Mistral has entered the scene, captivating users with its unique\\nability to generate creative content. Understanding the perspectives of these\\nusers is crucial, as they can offer valuable insights into the potential\\nstrengths, weaknesses, and overall success or failure of these technologies in\\nvarious domains. This research delves into the responses generated by ChatGPT,\\nGPT-4, Gemini, Mixtral and Claude across different Conversational QA corpora.\\nEvaluation scores were meticulously computed and subsequently compared to\\nascertain the overall performance of these models. Our study pinpointed\\ninstances where these models provided inaccurate answers to questions, offering\\ninsights into potential areas where they might be susceptible to errors. In\\nessence, this research provides a comprehensive comparison and evaluation of\\nthese state of-the-art language models, shedding light on their capabilities\\nwhile also highlighting potential areas for improvement\\n',\n",
       "  'score': 20.609375,\n",
       "  'rank': 7,\n",
       "  'document_id': '2405.18344',\n",
       "  'passage_id': 361882,\n",
       "  'document_metadata': {'doi': 'None',\n",
       "   'authors': 'Aryan Rangapur, Aman Rangapur',\n",
       "   'title': 'The Battle of LLMs: A Comparative Study in Conversational QA Tasks',\n",
       "   '_time': '28 May 2024'}},\n",
       " {'content': \"  In this paper, we present significant advancements in the pretraining of\\nMistral 7B, a large-scale language model, using a dataset of 32.6 GB,\\nequivalent to 1.1 billion tokens. We explore the impact of extending the\\ncontext length, releasing models with context lengths of 4096 and 32768 tokens,\\nand further refining performance with a specialized 16384 context length\\ninstruction-tuned model, we called it Malaysian Mistral.\\n  Our experiments demonstrate the efficacy of continue pretraining and the\\ninfluence of extended context lengths on Mistral 7B's language understanding\\ncapabilities. Additionally, we release a model specifically tuned with a 16384\\ncontext length instruction, showcasing its potential for capturing nuanced\\nlanguage intricacies.\\n  Furthermore, our research contributes to the benchmarking of Malaysian\\nMistral against prominent language models, including ChatGPT3.5 and Claude 2.\\nWe present compelling results indicating Malaysian Mistral's superior\\nperformance on Tatabahasa (Malay grammar) test set, particularly when\\nfine-tuned with instructions.\\n  All models released at\\nhttps://huggingface.co/collections/mesolitica/malaysian-mistral-7b-6528f2ec825f4bba46c1700c\\n\",\n",
       "  'score': 20.515625,\n",
       "  'rank': 8,\n",
       "  'document_id': '2401.13565',\n",
       "  'passage_id': 331344,\n",
       "  'document_metadata': {'doi': 'None',\n",
       "   'authors': 'Husein Zolkepli, Aisyah Razak, Kamarul Adha, Ariff Nazhan',\n",
       "   'title': 'Large Malaysian Language Model Based on Mistral for Enhanced Local\\n  Language Understanding',\n",
       "   '_time': '04 Feb 2024'}},\n",
       " {'content': \"  The advancement of Large Language Models (LLMs) has significantly transformed\\nthe field of natural language processing, although the focus on English-centric\\nmodels has created a noticeable research gap for specific languages, including\\nVietnamese. To address this issue, this paper presents vi-mistral-x, an\\ninnovative Large Language Model designed expressly for the Vietnamese language.\\nIt utilizes a unique method of continual pre-training, based on the Mistral\\narchitecture, which incorporates grouped-query attention and sliding window\\nattention techniques. This model, vi-Mistral-X, marks a significant step\\nforward in improving the understanding and generation of the Vietnamese\\nlanguage. It introduces an additional phase of continual pre-training,\\nspecifically adapted for Vietnamese, enhancing the model's capability in\\nunderstanding complex language nuances and generating accurate, context-aware\\nVietnamese text. Through comprehensive testing on various benchmarks,\\nvi-mistral-x has shown to outperform existing Vietnamese LLMs in several key\\nareas, including text classification, question answering, and text generation.\\nParticularly, in the Vietnamese Multitask Language Understanding (VMLU)\\nbenchmark, vi-mistral-x sets a new standard, outperforming other available\\nmodels significantly. This paper highlights the critical role of continual\\npre-training in advancing language-specific LLMs and opens new avenues for the\\ndevelopment of multilingual models. We aim for vi-mistral-x to not just be an\\nimportant asset for processing the Vietnamese language but also to encourage\\nmore advancements in creating large language models for languages that are less\\nrepresented.\\n\",\n",
       "  'score': 20.46875,\n",
       "  'rank': 9,\n",
       "  'document_id': '2403.15470',\n",
       "  'passage_id': 346236,\n",
       "  'document_metadata': {'doi': 'None',\n",
       "   'authors': 'James Vo',\n",
       "   'title': 'Vi-Mistral-X: Building a Vietnamese Language Model with Advanced\\n  Continual Pre-training',\n",
       "   '_time': '20 Mar 2024'}},\n",
       " {'content': '  We introduce Generalized Instruction Tuning (called GLAN), a general and\\nscalable method for instruction tuning of Large Language Models (LLMs). Unlike\\nprior work that relies on seed examples or existing datasets to construct\\ninstruction tuning data, GLAN exclusively utilizes a pre-curated taxonomy of\\nhuman knowledge and capabilities as input and generates large-scale synthetic\\ninstruction data across all disciplines. Specifically, inspired by the\\nsystematic structure in human education system, we build the taxonomy by\\ndecomposing human knowledge and capabilities to various fields, sub-fields and\\nultimately, distinct disciplines semi-automatically, facilitated by LLMs.\\nSubsequently, we generate a comprehensive list of subjects for every discipline\\nand proceed to design a syllabus tailored to each subject, again utilizing\\nLLMs. With the fine-grained key concepts detailed in every class session of the\\nsyllabus, we are able to generate diverse instructions with a broad coverage\\nacross the entire spectrum of human knowledge and skills. Extensive experiments\\non large language models (e.g., Mistral) demonstrate that GLAN excels in\\nmultiple dimensions from mathematical reasoning, coding, academic exams,\\nlogical reasoning to general instruction following without using task-specific\\ntraining data of these tasks. In addition, GLAN allows for easy customization\\nand new fields or skills can be added by simply incorporating a new node into\\nour taxonomy.\\n',\n",
       "  'score': 20.3125,\n",
       "  'rank': 10,\n",
       "  'document_id': '2402.13064',\n",
       "  'passage_id': 337774,\n",
       "  'document_metadata': {'doi': 'None',\n",
       "   'authors': 'Haoran Li, Qingxiu Dong, Zhengyang Tang, Chaojun Wang, Xingxing Zhang,\\n  Haoyang Huang, Shaohan Huang, Xiaolong Huang, Zeqiang Huang, Dongdong Zhang,\\n  Yuxian Gu, Xin Cheng, Xun Wang, Si-Qing Chen, Li Dong, Wei Lu, Zhifang Sui,\\n  Benyou Wang, Wai Lam, Furu Wei',\n",
       "   'title': 'Synthetic Data (Almost) from Scratch: Generalized Instruction Tuning for\\n  Language Models',\n",
       "   '_time': '20 Feb 2024'}}]"
      ]
     },
     "execution_count": 11,
     "metadata": {},
     "output_type": "execute_result"
    }
   ],
   "source": [
    "Colbertv2.search(query=\"What is mistral\", k=10)"
   ]
  },
  {
   "cell_type": "markdown",
   "id": "e61dc9ee",
   "metadata": {
    "papermill": {
     "duration": 0.026513,
     "end_time": "2024-08-15T11:07:48.719440",
     "exception": false,
     "start_time": "2024-08-15T11:07:48.692927",
     "status": "completed"
    },
    "tags": []
   },
   "source": [
    "To verify the result, we would be searching using the predefined search queries (`mistral`,`mixtral`, `gemini`, `ColBERTv2` in this case), and see if any of the top-10 search results contain the expected DOI (`document_id` in the `rag_output`).\n",
    "\n",
    "If the `document_id` matches with the DOI, we would do an additional verification - we would check if the metadata stored accurately matches with the expected metadata. There can be accidental cases when the metadata of all the indices gets mismatched, this would be a check to ensure it did not happen."
   ]
  },
  {
   "cell_type": "code",
   "execution_count": 12,
   "id": "2c397043",
   "metadata": {
    "execution": {
     "iopub.execute_input": "2024-08-15T11:07:48.774032Z",
     "iopub.status.busy": "2024-08-15T11:07:48.773679Z",
     "iopub.status.idle": "2024-08-15T11:07:49.006036Z",
     "shell.execute_reply": "2024-08-15T11:07:49.004921Z"
    },
    "papermill": {
     "duration": 0.262204,
     "end_time": "2024-08-15T11:07:49.008162",
     "exception": false,
     "start_time": "2024-08-15T11:07:48.745958",
     "status": "completed"
    },
    "tags": []
   },
   "outputs": [
    {
     "name": "stdout",
     "output_type": "stream",
     "text": [
      "Matches :  4  Accuracy: 100.0\n"
     ]
    }
   ],
   "source": [
    "# Initialize counters for total number of queries and number of wrong results\n",
    "total = 0\n",
    "wrong = 0\n",
    "\n",
    "# Loop through each query and its corresponding value from the search_queries dictionary\n",
    "for query, value in search_queries.items():\n",
    "    # Perform a search using the query and retrieve the top 10 results\n",
    "    rag_output = Colbertv2.search(query=query, k=10)\n",
    "    \n",
    "    # Retrieve the ground truth data based on the value from filtered_df\n",
    "    gnd_truth = filtered_df.row(by_predicate=(pl.col(\"id\") == value), named=True)\n",
    "    \n",
    "    # Initialize a flag to check if there is a match\n",
    "    match = False\n",
    "    \n",
    "    # Loop through the search results to check if any match the ground truth\n",
    "    for rag_output_val in rag_output:\n",
    "        # Check if the document ID matches the ground truth ID\n",
    "        if rag_output_val['document_id'] == gnd_truth['id']:\n",
    "            # Assert that the titles are the same\n",
    "            assert rag_output_val['document_metadata']['title'] == gnd_truth['title']\n",
    "            \n",
    "            # Check if the content matches the ground truth abstract\n",
    "            abs_match_1 = rag_output_val['content'] == gnd_truth['abstract']\n",
    "            abs_match_2 = rag_output_val['content'].replace('\\n', '').replace(' ', '') == gnd_truth['abstract'].replace('\\n', '').replace(' ', '')\n",
    "            \n",
    "            # Assert that either of the two abstract match conditions is true\n",
    "            assert any([abs_match_1, abs_match_2])\n",
    "            \n",
    "            # Set the match flag to True\n",
    "            match = True\n",
    "    \n",
    "    # If no match was found, increment the wrong counter and print the ground truth and search results\n",
    "    if not match:\n",
    "        wrong += 1\n",
    "        print(gnd_truth)\n",
    "        print(rag_output)\n",
    "        \n",
    "    # Increment the total counter for each query\n",
    "    total += 1\n",
    "\n",
    "# Print the number of correct matches and the accuracy percentage\n",
    "print(\"Matches : \", total - wrong, \" Accuracy:\", round((total - wrong) * 100 / total, 2))\n"
   ]
  },
  {
   "cell_type": "markdown",
   "id": "2b80e29a",
   "metadata": {
    "papermill": {
     "duration": 0.026399,
     "end_time": "2024-08-15T11:07:49.062488",
     "exception": false,
     "start_time": "2024-08-15T11:07:49.036089",
     "status": "completed"
    },
    "tags": []
   },
   "source": [
    "Awesome! If things look great, we can use these indices in our [ArXiv CS RAG](https://huggingface.co/spaces/bishmoy/Arxiv-CS-RAG) space."
   ]
  }
 ],
 "metadata": {
  "kaggle": {
   "accelerator": "gpu",
   "dataSources": [
    {
     "datasetId": 612177,
     "sourceId": 9148815,
     "sourceType": "datasetVersion"
    }
   ],
   "dockerImageVersionId": 30747,
   "isGpuEnabled": true,
   "isInternetEnabled": true,
   "language": "python",
   "sourceType": "notebook"
  },
  "kernelspec": {
   "display_name": "Python 3",
   "language": "python",
   "name": "python3"
  },
  "language_info": {
   "codemirror_mode": {
    "name": "ipython",
    "version": 3
   },
   "file_extension": ".py",
   "mimetype": "text/x-python",
   "name": "python",
   "nbconvert_exporter": "python",
   "pygments_lexer": "ipython3",
   "version": "3.10.13"
  },
  "papermill": {
   "default_parameters": {},
   "duration": 9867.413648,
   "end_time": "2024-08-15T11:07:52.132709",
   "environment_variables": {},
   "exception": null,
   "input_path": "__notebook__.ipynb",
   "output_path": "__notebook__.ipynb",
   "parameters": {},
   "start_time": "2024-08-15T08:23:24.719061",
   "version": "2.5.0"
  },
  "widgets": {
   "application/vnd.jupyter.widget-state+json": {
    "state": {
     "0085622f8cc64d96ac1b297a490aceb3": {
      "model_module": "@jupyter-widgets/base",
      "model_module_version": "1.2.0",
      "model_name": "LayoutModel",
      "state": {
       "_model_module": "@jupyter-widgets/base",
       "_model_module_version": "1.2.0",
       "_model_name": "LayoutModel",
       "_view_count": null,
       "_view_module": "@jupyter-widgets/base",
       "_view_module_version": "1.2.0",
       "_view_name": "LayoutView",
       "align_content": null,
       "align_items": null,
       "align_self": null,
       "border": null,
       "bottom": null,
       "display": null,
       "flex": null,
       "flex_flow": null,
       "grid_area": null,
       "grid_auto_columns": null,
       "grid_auto_flow": null,
       "grid_auto_rows": null,
       "grid_column": null,
       "grid_gap": null,
       "grid_row": null,
       "grid_template_areas": null,
       "grid_template_columns": null,
       "grid_template_rows": null,
       "height": null,
       "justify_content": null,
       "justify_items": null,
       "left": null,
       "margin": null,
       "max_height": null,
       "max_width": null,
       "min_height": null,
       "min_width": null,
       "object_fit": null,
       "object_position": null,
       "order": null,
       "overflow": null,
       "overflow_x": null,
       "overflow_y": null,
       "padding": null,
       "right": null,
       "top": null,
       "visibility": null,
       "width": null
      }
     },
     "047f02d33d1f4a0a8c29197d9b09c3fd": {
      "model_module": "@jupyter-widgets/controls",
      "model_module_version": "1.5.0",
      "model_name": "FloatProgressModel",
      "state": {
       "_dom_classes": [],
       "_model_module": "@jupyter-widgets/controls",
       "_model_module_version": "1.5.0",
       "_model_name": "FloatProgressModel",
       "_view_count": null,
       "_view_module": "@jupyter-widgets/controls",
       "_view_module_version": "1.5.0",
       "_view_name": "ProgressView",
       "bar_style": "success",
       "description": "",
       "description_tooltip": null,
       "layout": "IPY_MODEL_1d0dfb8dcc244c1c8db57d1d71cf0e20",
       "max": 231508.0,
       "min": 0.0,
       "orientation": "horizontal",
       "style": "IPY_MODEL_b92d509048f0481cb38333f7c477d399",
       "value": 231508.0
      }
     },
     "092fba63935e4398a140a1eb1c58285f": {
      "model_module": "@jupyter-widgets/controls",
      "model_module_version": "1.5.0",
      "model_name": "FloatProgressModel",
      "state": {
       "_dom_classes": [],
       "_model_module": "@jupyter-widgets/controls",
       "_model_module_version": "1.5.0",
       "_model_name": "FloatProgressModel",
       "_view_count": null,
       "_view_module": "@jupyter-widgets/controls",
       "_view_module_version": "1.5.0",
       "_view_name": "ProgressView",
       "bar_style": "success",
       "description": "",
       "description_tooltip": null,
       "layout": "IPY_MODEL_a4b940ce7245431e9690521661712d65",
       "max": 743.0,
       "min": 0.0,
       "orientation": "horizontal",
       "style": "IPY_MODEL_7ac10ff4359d4a219547aa4b9e7ab34e",
       "value": 743.0
      }
     },
     "09d3a86a6612417788bf99a7ba8c09a5": {
      "model_module": "@jupyter-widgets/base",
      "model_module_version": "1.2.0",
      "model_name": "LayoutModel",
      "state": {
       "_model_module": "@jupyter-widgets/base",
       "_model_module_version": "1.2.0",
       "_model_name": "LayoutModel",
       "_view_count": null,
       "_view_module": "@jupyter-widgets/base",
       "_view_module_version": "1.2.0",
       "_view_name": "LayoutView",
       "align_content": null,
       "align_items": null,
       "align_self": null,
       "border": null,
       "bottom": null,
       "display": null,
       "flex": null,
       "flex_flow": null,
       "grid_area": null,
       "grid_auto_columns": null,
       "grid_auto_flow": null,
       "grid_auto_rows": null,
       "grid_column": null,
       "grid_gap": null,
       "grid_row": null,
       "grid_template_areas": null,
       "grid_template_columns": null,
       "grid_template_rows": null,
       "height": null,
       "justify_content": null,
       "justify_items": null,
       "left": null,
       "margin": null,
       "max_height": null,
       "max_width": null,
       "min_height": null,
       "min_width": null,
       "object_fit": null,
       "object_position": null,
       "order": null,
       "overflow": null,
       "overflow_x": null,
       "overflow_y": null,
       "padding": null,
       "right": null,
       "top": null,
       "visibility": null,
       "width": null
      }
     },
     "0b143e6c10e04ef4a16d4474e4e671a3": {
      "model_module": "@jupyter-widgets/controls",
      "model_module_version": "1.5.0",
      "model_name": "DescriptionStyleModel",
      "state": {
       "_model_module": "@jupyter-widgets/controls",
       "_model_module_version": "1.5.0",
       "_model_name": "DescriptionStyleModel",
       "_view_count": null,
       "_view_module": "@jupyter-widgets/base",
       "_view_module_version": "1.2.0",
       "_view_name": "StyleView",
       "description_width": ""
      }
     },
     "0b8a1077b4d541ffa6d7767de8d66e29": {
      "model_module": "@jupyter-widgets/base",
      "model_module_version": "1.2.0",
      "model_name": "LayoutModel",
      "state": {
       "_model_module": "@jupyter-widgets/base",
       "_model_module_version": "1.2.0",
       "_model_name": "LayoutModel",
       "_view_count": null,
       "_view_module": "@jupyter-widgets/base",
       "_view_module_version": "1.2.0",
       "_view_name": "LayoutView",
       "align_content": null,
       "align_items": null,
       "align_self": null,
       "border": null,
       "bottom": null,
       "display": null,
       "flex": null,
       "flex_flow": null,
       "grid_area": null,
       "grid_auto_columns": null,
       "grid_auto_flow": null,
       "grid_auto_rows": null,
       "grid_column": null,
       "grid_gap": null,
       "grid_row": null,
       "grid_template_areas": null,
       "grid_template_columns": null,
       "grid_template_rows": null,
       "height": null,
       "justify_content": null,
       "justify_items": null,
       "left": null,
       "margin": null,
       "max_height": null,
       "max_width": null,
       "min_height": null,
       "min_width": null,
       "object_fit": null,
       "object_position": null,
       "order": null,
       "overflow": null,
       "overflow_x": null,
       "overflow_y": null,
       "padding": null,
       "right": null,
       "top": null,
       "visibility": null,
       "width": null
      }
     },
     "0c576afa385540b68b86a50e3253d95c": {
      "model_module": "@jupyter-widgets/controls",
      "model_module_version": "1.5.0",
      "model_name": "HTMLModel",
      "state": {
       "_dom_classes": [],
       "_model_module": "@jupyter-widgets/controls",
       "_model_module_version": "1.5.0",
       "_model_name": "HTMLModel",
       "_view_count": null,
       "_view_module": "@jupyter-widgets/controls",
       "_view_module_version": "1.5.0",
       "_view_name": "HTMLView",
       "description": "",
       "description_tooltip": null,
       "layout": "IPY_MODEL_68378560bd88442cb9d8f76b89ada971",
       "placeholder": "​",
       "style": "IPY_MODEL_aef232d7d52c45d2ba6af476c2f2cbf0",
       "value": "model.safetensors: 100%"
      }
     },
     "0d37baeb4aca4c7b9d6a91d9403efbaa": {
      "model_module": "@jupyter-widgets/controls",
      "model_module_version": "1.5.0",
      "model_name": "DescriptionStyleModel",
      "state": {
       "_model_module": "@jupyter-widgets/controls",
       "_model_module_version": "1.5.0",
       "_model_name": "DescriptionStyleModel",
       "_view_count": null,
       "_view_module": "@jupyter-widgets/base",
       "_view_module_version": "1.2.0",
       "_view_name": "StyleView",
       "description_width": ""
      }
     },
     "10888c1c9ad442e691bfe0e5e30beac7": {
      "model_module": "@jupyter-widgets/controls",
      "model_module_version": "1.5.0",
      "model_name": "DescriptionStyleModel",
      "state": {
       "_model_module": "@jupyter-widgets/controls",
       "_model_module_version": "1.5.0",
       "_model_name": "DescriptionStyleModel",
       "_view_count": null,
       "_view_module": "@jupyter-widgets/base",
       "_view_module_version": "1.2.0",
       "_view_name": "StyleView",
       "description_width": ""
      }
     },
     "1d0dfb8dcc244c1c8db57d1d71cf0e20": {
      "model_module": "@jupyter-widgets/base",
      "model_module_version": "1.2.0",
      "model_name": "LayoutModel",
      "state": {
       "_model_module": "@jupyter-widgets/base",
       "_model_module_version": "1.2.0",
       "_model_name": "LayoutModel",
       "_view_count": null,
       "_view_module": "@jupyter-widgets/base",
       "_view_module_version": "1.2.0",
       "_view_name": "LayoutView",
       "align_content": null,
       "align_items": null,
       "align_self": null,
       "border": null,
       "bottom": null,
       "display": null,
       "flex": null,
       "flex_flow": null,
       "grid_area": null,
       "grid_auto_columns": null,
       "grid_auto_flow": null,
       "grid_auto_rows": null,
       "grid_column": null,
       "grid_gap": null,
       "grid_row": null,
       "grid_template_areas": null,
       "grid_template_columns": null,
       "grid_template_rows": null,
       "height": null,
       "justify_content": null,
       "justify_items": null,
       "left": null,
       "margin": null,
       "max_height": null,
       "max_width": null,
       "min_height": null,
       "min_width": null,
       "object_fit": null,
       "object_position": null,
       "order": null,
       "overflow": null,
       "overflow_x": null,
       "overflow_y": null,
       "padding": null,
       "right": null,
       "top": null,
       "visibility": null,
       "width": null
      }
     },
     "20626b2639a94e8481872c22d851e8ea": {
      "model_module": "@jupyter-widgets/controls",
      "model_module_version": "1.5.0",
      "model_name": "HBoxModel",
      "state": {
       "_dom_classes": [],
       "_model_module": "@jupyter-widgets/controls",
       "_model_module_version": "1.5.0",
       "_model_name": "HBoxModel",
       "_view_count": null,
       "_view_module": "@jupyter-widgets/controls",
       "_view_module_version": "1.5.0",
       "_view_name": "HBoxView",
       "box_style": "",
       "children": [
        "IPY_MODEL_db8da19ce52f4c7e8e9a2ccb06537723",
        "IPY_MODEL_777f7dcd5ce94a8cb7a12fc3523ca925",
        "IPY_MODEL_3b1fe8f24a0243bc9a4822a14fdd53ac"
       ],
       "layout": "IPY_MODEL_61da5a8f69a7463698af9abd9e0e8247"
      }
     },
     "222ddbd17d5e4f73b289567e52bddbfc": {
      "model_module": "@jupyter-widgets/controls",
      "model_module_version": "1.5.0",
      "model_name": "FloatProgressModel",
      "state": {
       "_dom_classes": [],
       "_model_module": "@jupyter-widgets/controls",
       "_model_module_version": "1.5.0",
       "_model_name": "FloatProgressModel",
       "_view_count": null,
       "_view_module": "@jupyter-widgets/controls",
       "_view_module_version": "1.5.0",
       "_view_name": "ProgressView",
       "bar_style": "success",
       "description": "",
       "description_tooltip": null,
       "layout": "IPY_MODEL_a77ef76bc67645bcaba2c8ae14463944",
       "max": 1633.0,
       "min": 0.0,
       "orientation": "horizontal",
       "style": "IPY_MODEL_ff4154f265704225b5edd5d2da320956",
       "value": 1633.0
      }
     },
     "23330ed452a14194801e0513b51b2d60": {
      "model_module": "@jupyter-widgets/controls",
      "model_module_version": "1.5.0",
      "model_name": "HTMLModel",
      "state": {
       "_dom_classes": [],
       "_model_module": "@jupyter-widgets/controls",
       "_model_module_version": "1.5.0",
       "_model_name": "HTMLModel",
       "_view_count": null,
       "_view_module": "@jupyter-widgets/controls",
       "_view_module_version": "1.5.0",
       "_view_name": "HTMLView",
       "description": "",
       "description_tooltip": null,
       "layout": "IPY_MODEL_3fbfac0a897d4289bcbe9bffce57c888",
       "placeholder": "​",
       "style": "IPY_MODEL_0b143e6c10e04ef4a16d4474e4e671a3",
       "value": " 438M/438M [00:01&lt;00:00, 288MB/s]"
      }
     },
     "2947b80b6b2446eeaaea9d585c00fcf4": {
      "model_module": "@jupyter-widgets/base",
      "model_module_version": "1.2.0",
      "model_name": "LayoutModel",
      "state": {
       "_model_module": "@jupyter-widgets/base",
       "_model_module_version": "1.2.0",
       "_model_name": "LayoutModel",
       "_view_count": null,
       "_view_module": "@jupyter-widgets/base",
       "_view_module_version": "1.2.0",
       "_view_name": "LayoutView",
       "align_content": null,
       "align_items": null,
       "align_self": null,
       "border": null,
       "bottom": null,
       "display": null,
       "flex": null,
       "flex_flow": null,
       "grid_area": null,
       "grid_auto_columns": null,
       "grid_auto_flow": null,
       "grid_auto_rows": null,
       "grid_column": null,
       "grid_gap": null,
       "grid_row": null,
       "grid_template_areas": null,
       "grid_template_columns": null,
       "grid_template_rows": null,
       "height": null,
       "justify_content": null,
       "justify_items": null,
       "left": null,
       "margin": null,
       "max_height": null,
       "max_width": null,
       "min_height": null,
       "min_width": null,
       "object_fit": null,
       "object_position": null,
       "order": null,
       "overflow": null,
       "overflow_x": null,
       "overflow_y": null,
       "padding": null,
       "right": null,
       "top": null,
       "visibility": null,
       "width": null
      }
     },
     "2bb138c7734d4f6da3d73eedd43b987a": {
      "model_module": "@jupyter-widgets/base",
      "model_module_version": "1.2.0",
      "model_name": "LayoutModel",
      "state": {
       "_model_module": "@jupyter-widgets/base",
       "_model_module_version": "1.2.0",
       "_model_name": "LayoutModel",
       "_view_count": null,
       "_view_module": "@jupyter-widgets/base",
       "_view_module_version": "1.2.0",
       "_view_name": "LayoutView",
       "align_content": null,
       "align_items": null,
       "align_self": null,
       "border": null,
       "bottom": null,
       "display": null,
       "flex": null,
       "flex_flow": null,
       "grid_area": null,
       "grid_auto_columns": null,
       "grid_auto_flow": null,
       "grid_auto_rows": null,
       "grid_column": null,
       "grid_gap": null,
       "grid_row": null,
       "grid_template_areas": null,
       "grid_template_columns": null,
       "grid_template_rows": null,
       "height": null,
       "justify_content": null,
       "justify_items": null,
       "left": null,
       "margin": null,
       "max_height": null,
       "max_width": null,
       "min_height": null,
       "min_width": null,
       "object_fit": null,
       "object_position": null,
       "order": null,
       "overflow": null,
       "overflow_x": null,
       "overflow_y": null,
       "padding": null,
       "right": null,
       "top": null,
       "visibility": null,
       "width": null
      }
     },
     "2c96924547a44fd69656f523844983f6": {
      "model_module": "@jupyter-widgets/base",
      "model_module_version": "1.2.0",
      "model_name": "LayoutModel",
      "state": {
       "_model_module": "@jupyter-widgets/base",
       "_model_module_version": "1.2.0",
       "_model_name": "LayoutModel",
       "_view_count": null,
       "_view_module": "@jupyter-widgets/base",
       "_view_module_version": "1.2.0",
       "_view_name": "LayoutView",
       "align_content": null,
       "align_items": null,
       "align_self": null,
       "border": null,
       "bottom": null,
       "display": null,
       "flex": null,
       "flex_flow": null,
       "grid_area": null,
       "grid_auto_columns": null,
       "grid_auto_flow": null,
       "grid_auto_rows": null,
       "grid_column": null,
       "grid_gap": null,
       "grid_row": null,
       "grid_template_areas": null,
       "grid_template_columns": null,
       "grid_template_rows": null,
       "height": null,
       "justify_content": null,
       "justify_items": null,
       "left": null,
       "margin": null,
       "max_height": null,
       "max_width": null,
       "min_height": null,
       "min_width": null,
       "object_fit": null,
       "object_position": null,
       "order": null,
       "overflow": null,
       "overflow_x": null,
       "overflow_y": null,
       "padding": null,
       "right": null,
       "top": null,
       "visibility": null,
       "width": null
      }
     },
     "32f09aef0ade494b8b437b492beffe79": {
      "model_module": "@jupyter-widgets/controls",
      "model_module_version": "1.5.0",
      "model_name": "DescriptionStyleModel",
      "state": {
       "_model_module": "@jupyter-widgets/controls",
       "_model_module_version": "1.5.0",
       "_model_name": "DescriptionStyleModel",
       "_view_count": null,
       "_view_module": "@jupyter-widgets/base",
       "_view_module_version": "1.2.0",
       "_view_name": "StyleView",
       "description_width": ""
      }
     },
     "3b1fe8f24a0243bc9a4822a14fdd53ac": {
      "model_module": "@jupyter-widgets/controls",
      "model_module_version": "1.5.0",
      "model_name": "HTMLModel",
      "state": {
       "_dom_classes": [],
       "_model_module": "@jupyter-widgets/controls",
       "_model_module_version": "1.5.0",
       "_model_name": "HTMLModel",
       "_view_count": null,
       "_view_module": "@jupyter-widgets/controls",
       "_view_module_version": "1.5.0",
       "_view_name": "HTMLView",
       "description": "",
       "description_tooltip": null,
       "layout": "IPY_MODEL_8a377657444c4de6872b51ada5e203dc",
       "placeholder": "​",
       "style": "IPY_MODEL_10888c1c9ad442e691bfe0e5e30beac7",
       "value": " 112/112 [00:00&lt;00:00, 9.36kB/s]"
      }
     },
     "3f3a1d6b367b4074ad5df6e7186cac89": {
      "model_module": "@jupyter-widgets/controls",
      "model_module_version": "1.5.0",
      "model_name": "HBoxModel",
      "state": {
       "_dom_classes": [],
       "_model_module": "@jupyter-widgets/controls",
       "_model_module_version": "1.5.0",
       "_model_name": "HBoxModel",
       "_view_count": null,
       "_view_module": "@jupyter-widgets/controls",
       "_view_module_version": "1.5.0",
       "_view_name": "HBoxView",
       "box_style": "",
       "children": [
        "IPY_MODEL_988b5c4b40604625a899db2dde34298e",
        "IPY_MODEL_047f02d33d1f4a0a8c29197d9b09c3fd",
        "IPY_MODEL_83f749d8954d4a2eaf66c7aa27253036"
       ],
       "layout": "IPY_MODEL_fa71fb6505ff4376a474b5a1fde3325b"
      }
     },
     "3fbfac0a897d4289bcbe9bffce57c888": {
      "model_module": "@jupyter-widgets/base",
      "model_module_version": "1.2.0",
      "model_name": "LayoutModel",
      "state": {
       "_model_module": "@jupyter-widgets/base",
       "_model_module_version": "1.2.0",
       "_model_name": "LayoutModel",
       "_view_count": null,
       "_view_module": "@jupyter-widgets/base",
       "_view_module_version": "1.2.0",
       "_view_name": "LayoutView",
       "align_content": null,
       "align_items": null,
       "align_self": null,
       "border": null,
       "bottom": null,
       "display": null,
       "flex": null,
       "flex_flow": null,
       "grid_area": null,
       "grid_auto_columns": null,
       "grid_auto_flow": null,
       "grid_auto_rows": null,
       "grid_column": null,
       "grid_gap": null,
       "grid_row": null,
       "grid_template_areas": null,
       "grid_template_columns": null,
       "grid_template_rows": null,
       "height": null,
       "justify_content": null,
       "justify_items": null,
       "left": null,
       "margin": null,
       "max_height": null,
       "max_width": null,
       "min_height": null,
       "min_width": null,
       "object_fit": null,
       "object_position": null,
       "order": null,
       "overflow": null,
       "overflow_x": null,
       "overflow_y": null,
       "padding": null,
       "right": null,
       "top": null,
       "visibility": null,
       "width": null
      }
     },
     "474484f7aa0c4c548905d1fdf71027d0": {
      "model_module": "@jupyter-widgets/base",
      "model_module_version": "1.2.0",
      "model_name": "LayoutModel",
      "state": {
       "_model_module": "@jupyter-widgets/base",
       "_model_module_version": "1.2.0",
       "_model_name": "LayoutModel",
       "_view_count": null,
       "_view_module": "@jupyter-widgets/base",
       "_view_module_version": "1.2.0",
       "_view_name": "LayoutView",
       "align_content": null,
       "align_items": null,
       "align_self": null,
       "border": null,
       "bottom": null,
       "display": null,
       "flex": null,
       "flex_flow": null,
       "grid_area": null,
       "grid_auto_columns": null,
       "grid_auto_flow": null,
       "grid_auto_rows": null,
       "grid_column": null,
       "grid_gap": null,
       "grid_row": null,
       "grid_template_areas": null,
       "grid_template_columns": null,
       "grid_template_rows": null,
       "height": null,
       "justify_content": null,
       "justify_items": null,
       "left": null,
       "margin": null,
       "max_height": null,
       "max_width": null,
       "min_height": null,
       "min_width": null,
       "object_fit": null,
       "object_position": null,
       "order": null,
       "overflow": null,
       "overflow_x": null,
       "overflow_y": null,
       "padding": null,
       "right": null,
       "top": null,
       "visibility": null,
       "width": null
      }
     },
     "4bbf3d7691a946bfb04ee2700b634f39": {
      "model_module": "@jupyter-widgets/controls",
      "model_module_version": "1.5.0",
      "model_name": "ProgressStyleModel",
      "state": {
       "_model_module": "@jupyter-widgets/controls",
       "_model_module_version": "1.5.0",
       "_model_name": "ProgressStyleModel",
       "_view_count": null,
       "_view_module": "@jupyter-widgets/base",
       "_view_module_version": "1.2.0",
       "_view_name": "StyleView",
       "bar_color": null,
       "description_width": ""
      }
     },
     "59ad0d8207964f57bd2d60c387045742": {
      "model_module": "@jupyter-widgets/controls",
      "model_module_version": "1.5.0",
      "model_name": "HTMLModel",
      "state": {
       "_dom_classes": [],
       "_model_module": "@jupyter-widgets/controls",
       "_model_module_version": "1.5.0",
       "_model_name": "HTMLModel",
       "_view_count": null,
       "_view_module": "@jupyter-widgets/controls",
       "_view_module_version": "1.5.0",
       "_view_name": "HTMLView",
       "description": "",
       "description_tooltip": null,
       "layout": "IPY_MODEL_2947b80b6b2446eeaaea9d585c00fcf4",
       "placeholder": "​",
       "style": "IPY_MODEL_7d7ecc3cc3b948e6903a3606523b85da",
       "value": " 743/743 [00:00&lt;00:00, 68.4kB/s]"
      }
     },
     "5a40ff016a9e4f0fb1443013802daf4f": {
      "model_module": "@jupyter-widgets/controls",
      "model_module_version": "1.5.0",
      "model_name": "FloatProgressModel",
      "state": {
       "_dom_classes": [],
       "_model_module": "@jupyter-widgets/controls",
       "_model_module_version": "1.5.0",
       "_model_name": "FloatProgressModel",
       "_view_count": null,
       "_view_module": "@jupyter-widgets/controls",
       "_view_module_version": "1.5.0",
       "_view_name": "ProgressView",
       "bar_style": "success",
       "description": "",
       "description_tooltip": null,
       "layout": "IPY_MODEL_2c96924547a44fd69656f523844983f6",
       "max": 438349816.0,
       "min": 0.0,
       "orientation": "horizontal",
       "style": "IPY_MODEL_4bbf3d7691a946bfb04ee2700b634f39",
       "value": 438349816.0
      }
     },
     "5c242ba2a3124176aebba2cf58c3b69f": {
      "model_module": "@jupyter-widgets/base",
      "model_module_version": "1.2.0",
      "model_name": "LayoutModel",
      "state": {
       "_model_module": "@jupyter-widgets/base",
       "_model_module_version": "1.2.0",
       "_model_name": "LayoutModel",
       "_view_count": null,
       "_view_module": "@jupyter-widgets/base",
       "_view_module_version": "1.2.0",
       "_view_name": "LayoutView",
       "align_content": null,
       "align_items": null,
       "align_self": null,
       "border": null,
       "bottom": null,
       "display": null,
       "flex": null,
       "flex_flow": null,
       "grid_area": null,
       "grid_auto_columns": null,
       "grid_auto_flow": null,
       "grid_auto_rows": null,
       "grid_column": null,
       "grid_gap": null,
       "grid_row": null,
       "grid_template_areas": null,
       "grid_template_columns": null,
       "grid_template_rows": null,
       "height": null,
       "justify_content": null,
       "justify_items": null,
       "left": null,
       "margin": null,
       "max_height": null,
       "max_width": null,
       "min_height": null,
       "min_width": null,
       "object_fit": null,
       "object_position": null,
       "order": null,
       "overflow": null,
       "overflow_x": null,
       "overflow_y": null,
       "padding": null,
       "right": null,
       "top": null,
       "visibility": null,
       "width": null
      }
     },
     "5d5ae85d5bc8455cae0dddff8d3da1d5": {
      "model_module": "@jupyter-widgets/base",
      "model_module_version": "1.2.0",
      "model_name": "LayoutModel",
      "state": {
       "_model_module": "@jupyter-widgets/base",
       "_model_module_version": "1.2.0",
       "_model_name": "LayoutModel",
       "_view_count": null,
       "_view_module": "@jupyter-widgets/base",
       "_view_module_version": "1.2.0",
       "_view_name": "LayoutView",
       "align_content": null,
       "align_items": null,
       "align_self": null,
       "border": null,
       "bottom": null,
       "display": null,
       "flex": null,
       "flex_flow": null,
       "grid_area": null,
       "grid_auto_columns": null,
       "grid_auto_flow": null,
       "grid_auto_rows": null,
       "grid_column": null,
       "grid_gap": null,
       "grid_row": null,
       "grid_template_areas": null,
       "grid_template_columns": null,
       "grid_template_rows": null,
       "height": null,
       "justify_content": null,
       "justify_items": null,
       "left": null,
       "margin": null,
       "max_height": null,
       "max_width": null,
       "min_height": null,
       "min_width": null,
       "object_fit": null,
       "object_position": null,
       "order": null,
       "overflow": null,
       "overflow_x": null,
       "overflow_y": null,
       "padding": null,
       "right": null,
       "top": null,
       "visibility": null,
       "width": null
      }
     },
     "5e04be5748d94b789ee048e02f1cb968": {
      "model_module": "@jupyter-widgets/controls",
      "model_module_version": "1.5.0",
      "model_name": "HBoxModel",
      "state": {
       "_dom_classes": [],
       "_model_module": "@jupyter-widgets/controls",
       "_model_module_version": "1.5.0",
       "_model_name": "HBoxModel",
       "_view_count": null,
       "_view_module": "@jupyter-widgets/controls",
       "_view_module_version": "1.5.0",
       "_view_name": "HBoxView",
       "box_style": "",
       "children": [
        "IPY_MODEL_b32749bc6f1f48fba51890fb1b880ea9",
        "IPY_MODEL_f160f7885e1e41f6a9704267aa4defba",
        "IPY_MODEL_78167627a706402b9fa350ce9c2eb39e"
       ],
       "layout": "IPY_MODEL_96abc2f2a10942f1839ab2aa8fb3c62d"
      }
     },
     "61da5a8f69a7463698af9abd9e0e8247": {
      "model_module": "@jupyter-widgets/base",
      "model_module_version": "1.2.0",
      "model_name": "LayoutModel",
      "state": {
       "_model_module": "@jupyter-widgets/base",
       "_model_module_version": "1.2.0",
       "_model_name": "LayoutModel",
       "_view_count": null,
       "_view_module": "@jupyter-widgets/base",
       "_view_module_version": "1.2.0",
       "_view_name": "LayoutView",
       "align_content": null,
       "align_items": null,
       "align_self": null,
       "border": null,
       "bottom": null,
       "display": null,
       "flex": null,
       "flex_flow": null,
       "grid_area": null,
       "grid_auto_columns": null,
       "grid_auto_flow": null,
       "grid_auto_rows": null,
       "grid_column": null,
       "grid_gap": null,
       "grid_row": null,
       "grid_template_areas": null,
       "grid_template_columns": null,
       "grid_template_rows": null,
       "height": null,
       "justify_content": null,
       "justify_items": null,
       "left": null,
       "margin": null,
       "max_height": null,
       "max_width": null,
       "min_height": null,
       "min_width": null,
       "object_fit": null,
       "object_position": null,
       "order": null,
       "overflow": null,
       "overflow_x": null,
       "overflow_y": null,
       "padding": null,
       "right": null,
       "top": null,
       "visibility": null,
       "width": null
      }
     },
     "6343648d78a24ec99ef017674648cac0": {
      "model_module": "@jupyter-widgets/controls",
      "model_module_version": "1.5.0",
      "model_name": "DescriptionStyleModel",
      "state": {
       "_model_module": "@jupyter-widgets/controls",
       "_model_module_version": "1.5.0",
       "_model_name": "DescriptionStyleModel",
       "_view_count": null,
       "_view_module": "@jupyter-widgets/base",
       "_view_module_version": "1.2.0",
       "_view_name": "StyleView",
       "description_width": ""
      }
     },
     "68378560bd88442cb9d8f76b89ada971": {
      "model_module": "@jupyter-widgets/base",
      "model_module_version": "1.2.0",
      "model_name": "LayoutModel",
      "state": {
       "_model_module": "@jupyter-widgets/base",
       "_model_module_version": "1.2.0",
       "_model_name": "LayoutModel",
       "_view_count": null,
       "_view_module": "@jupyter-widgets/base",
       "_view_module_version": "1.2.0",
       "_view_name": "LayoutView",
       "align_content": null,
       "align_items": null,
       "align_self": null,
       "border": null,
       "bottom": null,
       "display": null,
       "flex": null,
       "flex_flow": null,
       "grid_area": null,
       "grid_auto_columns": null,
       "grid_auto_flow": null,
       "grid_auto_rows": null,
       "grid_column": null,
       "grid_gap": null,
       "grid_row": null,
       "grid_template_areas": null,
       "grid_template_columns": null,
       "grid_template_rows": null,
       "height": null,
       "justify_content": null,
       "justify_items": null,
       "left": null,
       "margin": null,
       "max_height": null,
       "max_width": null,
       "min_height": null,
       "min_width": null,
       "object_fit": null,
       "object_position": null,
       "order": null,
       "overflow": null,
       "overflow_x": null,
       "overflow_y": null,
       "padding": null,
       "right": null,
       "top": null,
       "visibility": null,
       "width": null
      }
     },
     "68c174b0e13a4070950aabdbcacdb1d8": {
      "model_module": "@jupyter-widgets/base",
      "model_module_version": "1.2.0",
      "model_name": "LayoutModel",
      "state": {
       "_model_module": "@jupyter-widgets/base",
       "_model_module_version": "1.2.0",
       "_model_name": "LayoutModel",
       "_view_count": null,
       "_view_module": "@jupyter-widgets/base",
       "_view_module_version": "1.2.0",
       "_view_name": "LayoutView",
       "align_content": null,
       "align_items": null,
       "align_self": null,
       "border": null,
       "bottom": null,
       "display": null,
       "flex": null,
       "flex_flow": null,
       "grid_area": null,
       "grid_auto_columns": null,
       "grid_auto_flow": null,
       "grid_auto_rows": null,
       "grid_column": null,
       "grid_gap": null,
       "grid_row": null,
       "grid_template_areas": null,
       "grid_template_columns": null,
       "grid_template_rows": null,
       "height": null,
       "justify_content": null,
       "justify_items": null,
       "left": null,
       "margin": null,
       "max_height": null,
       "max_width": null,
       "min_height": null,
       "min_width": null,
       "object_fit": null,
       "object_position": null,
       "order": null,
       "overflow": null,
       "overflow_x": null,
       "overflow_y": null,
       "padding": null,
       "right": null,
       "top": null,
       "visibility": null,
       "width": null
      }
     },
     "777f7dcd5ce94a8cb7a12fc3523ca925": {
      "model_module": "@jupyter-widgets/controls",
      "model_module_version": "1.5.0",
      "model_name": "FloatProgressModel",
      "state": {
       "_dom_classes": [],
       "_model_module": "@jupyter-widgets/controls",
       "_model_module_version": "1.5.0",
       "_model_name": "FloatProgressModel",
       "_view_count": null,
       "_view_module": "@jupyter-widgets/controls",
       "_view_module_version": "1.5.0",
       "_view_name": "ProgressView",
       "bar_style": "success",
       "description": "",
       "description_tooltip": null,
       "layout": "IPY_MODEL_adcc57f8ade448689fc4fb647ebf368c",
       "max": 112.0,
       "min": 0.0,
       "orientation": "horizontal",
       "style": "IPY_MODEL_8fef3afb76cc455eb919c39004436604",
       "value": 112.0
      }
     },
     "78167627a706402b9fa350ce9c2eb39e": {
      "model_module": "@jupyter-widgets/controls",
      "model_module_version": "1.5.0",
      "model_name": "HTMLModel",
      "state": {
       "_dom_classes": [],
       "_model_module": "@jupyter-widgets/controls",
       "_model_module_version": "1.5.0",
       "_model_name": "HTMLModel",
       "_view_count": null,
       "_view_module": "@jupyter-widgets/controls",
       "_view_module_version": "1.5.0",
       "_view_name": "HTMLView",
       "description": "",
       "description_tooltip": null,
       "layout": "IPY_MODEL_b97cdd317019497ca8f6166d88af19a0",
       "placeholder": "​",
       "style": "IPY_MODEL_b77396e2cd5b468b98966bc11f5a31dc",
       "value": " 466k/466k [00:00&lt;00:00, 2.62MB/s]"
      }
     },
     "7ac10ff4359d4a219547aa4b9e7ab34e": {
      "model_module": "@jupyter-widgets/controls",
      "model_module_version": "1.5.0",
      "model_name": "ProgressStyleModel",
      "state": {
       "_model_module": "@jupyter-widgets/controls",
       "_model_module_version": "1.5.0",
       "_model_name": "ProgressStyleModel",
       "_view_count": null,
       "_view_module": "@jupyter-widgets/base",
       "_view_module_version": "1.2.0",
       "_view_name": "StyleView",
       "bar_color": null,
       "description_width": ""
      }
     },
     "7d7ecc3cc3b948e6903a3606523b85da": {
      "model_module": "@jupyter-widgets/controls",
      "model_module_version": "1.5.0",
      "model_name": "DescriptionStyleModel",
      "state": {
       "_model_module": "@jupyter-widgets/controls",
       "_model_module_version": "1.5.0",
       "_model_name": "DescriptionStyleModel",
       "_view_count": null,
       "_view_module": "@jupyter-widgets/base",
       "_view_module_version": "1.2.0",
       "_view_name": "StyleView",
       "description_width": ""
      }
     },
     "833f1ade397b4b678e4de4b28207d284": {
      "model_module": "@jupyter-widgets/controls",
      "model_module_version": "1.5.0",
      "model_name": "DescriptionStyleModel",
      "state": {
       "_model_module": "@jupyter-widgets/controls",
       "_model_module_version": "1.5.0",
       "_model_name": "DescriptionStyleModel",
       "_view_count": null,
       "_view_module": "@jupyter-widgets/base",
       "_view_module_version": "1.2.0",
       "_view_name": "StyleView",
       "description_width": ""
      }
     },
     "83f749d8954d4a2eaf66c7aa27253036": {
      "model_module": "@jupyter-widgets/controls",
      "model_module_version": "1.5.0",
      "model_name": "HTMLModel",
      "state": {
       "_dom_classes": [],
       "_model_module": "@jupyter-widgets/controls",
       "_model_module_version": "1.5.0",
       "_model_name": "HTMLModel",
       "_view_count": null,
       "_view_module": "@jupyter-widgets/controls",
       "_view_module_version": "1.5.0",
       "_view_name": "HTMLView",
       "description": "",
       "description_tooltip": null,
       "layout": "IPY_MODEL_2bb138c7734d4f6da3d73eedd43b987a",
       "placeholder": "​",
       "style": "IPY_MODEL_6343648d78a24ec99ef017674648cac0",
       "value": " 232k/232k [00:00&lt;00:00, 1.67MB/s]"
      }
     },
     "8a377657444c4de6872b51ada5e203dc": {
      "model_module": "@jupyter-widgets/base",
      "model_module_version": "1.2.0",
      "model_name": "LayoutModel",
      "state": {
       "_model_module": "@jupyter-widgets/base",
       "_model_module_version": "1.2.0",
       "_model_name": "LayoutModel",
       "_view_count": null,
       "_view_module": "@jupyter-widgets/base",
       "_view_module_version": "1.2.0",
       "_view_name": "LayoutView",
       "align_content": null,
       "align_items": null,
       "align_self": null,
       "border": null,
       "bottom": null,
       "display": null,
       "flex": null,
       "flex_flow": null,
       "grid_area": null,
       "grid_auto_columns": null,
       "grid_auto_flow": null,
       "grid_auto_rows": null,
       "grid_column": null,
       "grid_gap": null,
       "grid_row": null,
       "grid_template_areas": null,
       "grid_template_columns": null,
       "grid_template_rows": null,
       "height": null,
       "justify_content": null,
       "justify_items": null,
       "left": null,
       "margin": null,
       "max_height": null,
       "max_width": null,
       "min_height": null,
       "min_width": null,
       "object_fit": null,
       "object_position": null,
       "order": null,
       "overflow": null,
       "overflow_x": null,
       "overflow_y": null,
       "padding": null,
       "right": null,
       "top": null,
       "visibility": null,
       "width": null
      }
     },
     "8af148253d454f56be84e1881450c75f": {
      "model_module": "@jupyter-widgets/controls",
      "model_module_version": "1.5.0",
      "model_name": "DescriptionStyleModel",
      "state": {
       "_model_module": "@jupyter-widgets/controls",
       "_model_module_version": "1.5.0",
       "_model_name": "DescriptionStyleModel",
       "_view_count": null,
       "_view_module": "@jupyter-widgets/base",
       "_view_module_version": "1.2.0",
       "_view_name": "StyleView",
       "description_width": ""
      }
     },
     "8b07ab5d1f8c47de8dbc570ecb7f93d7": {
      "model_module": "@jupyter-widgets/controls",
      "model_module_version": "1.5.0",
      "model_name": "HTMLModel",
      "state": {
       "_dom_classes": [],
       "_model_module": "@jupyter-widgets/controls",
       "_model_module_version": "1.5.0",
       "_model_name": "HTMLModel",
       "_view_count": null,
       "_view_module": "@jupyter-widgets/controls",
       "_view_module_version": "1.5.0",
       "_view_name": "HTMLView",
       "description": "",
       "description_tooltip": null,
       "layout": "IPY_MODEL_ef818d672e634021abcfb163776a28a8",
       "placeholder": "​",
       "style": "IPY_MODEL_c152b57f80df44fe823507028bbef487",
       "value": "artifact.metadata: 100%"
      }
     },
     "8f77667983124557b937796f018739dc": {
      "model_module": "@jupyter-widgets/controls",
      "model_module_version": "1.5.0",
      "model_name": "HBoxModel",
      "state": {
       "_dom_classes": [],
       "_model_module": "@jupyter-widgets/controls",
       "_model_module_version": "1.5.0",
       "_model_name": "HBoxModel",
       "_view_count": null,
       "_view_module": "@jupyter-widgets/controls",
       "_view_module_version": "1.5.0",
       "_view_name": "HBoxView",
       "box_style": "",
       "children": [
        "IPY_MODEL_0c576afa385540b68b86a50e3253d95c",
        "IPY_MODEL_5a40ff016a9e4f0fb1443013802daf4f",
        "IPY_MODEL_23330ed452a14194801e0513b51b2d60"
       ],
       "layout": "IPY_MODEL_e199f7be8c3348f888392511ab2226d4"
      }
     },
     "8fef3afb76cc455eb919c39004436604": {
      "model_module": "@jupyter-widgets/controls",
      "model_module_version": "1.5.0",
      "model_name": "ProgressStyleModel",
      "state": {
       "_model_module": "@jupyter-widgets/controls",
       "_model_module_version": "1.5.0",
       "_model_name": "ProgressStyleModel",
       "_view_count": null,
       "_view_module": "@jupyter-widgets/base",
       "_view_module_version": "1.2.0",
       "_view_name": "StyleView",
       "bar_color": null,
       "description_width": ""
      }
     },
     "96abc2f2a10942f1839ab2aa8fb3c62d": {
      "model_module": "@jupyter-widgets/base",
      "model_module_version": "1.2.0",
      "model_name": "LayoutModel",
      "state": {
       "_model_module": "@jupyter-widgets/base",
       "_model_module_version": "1.2.0",
       "_model_name": "LayoutModel",
       "_view_count": null,
       "_view_module": "@jupyter-widgets/base",
       "_view_module_version": "1.2.0",
       "_view_name": "LayoutView",
       "align_content": null,
       "align_items": null,
       "align_self": null,
       "border": null,
       "bottom": null,
       "display": null,
       "flex": null,
       "flex_flow": null,
       "grid_area": null,
       "grid_auto_columns": null,
       "grid_auto_flow": null,
       "grid_auto_rows": null,
       "grid_column": null,
       "grid_gap": null,
       "grid_row": null,
       "grid_template_areas": null,
       "grid_template_columns": null,
       "grid_template_rows": null,
       "height": null,
       "justify_content": null,
       "justify_items": null,
       "left": null,
       "margin": null,
       "max_height": null,
       "max_width": null,
       "min_height": null,
       "min_width": null,
       "object_fit": null,
       "object_position": null,
       "order": null,
       "overflow": null,
       "overflow_x": null,
       "overflow_y": null,
       "padding": null,
       "right": null,
       "top": null,
       "visibility": null,
       "width": null
      }
     },
     "988b5c4b40604625a899db2dde34298e": {
      "model_module": "@jupyter-widgets/controls",
      "model_module_version": "1.5.0",
      "model_name": "HTMLModel",
      "state": {
       "_dom_classes": [],
       "_model_module": "@jupyter-widgets/controls",
       "_model_module_version": "1.5.0",
       "_model_name": "HTMLModel",
       "_view_count": null,
       "_view_module": "@jupyter-widgets/controls",
       "_view_module_version": "1.5.0",
       "_view_name": "HTMLView",
       "description": "",
       "description_tooltip": null,
       "layout": "IPY_MODEL_a6d3b7c485de458e9a84bf423a91686d",
       "placeholder": "​",
       "style": "IPY_MODEL_9acc9cdce98e4ab6b5ad2a367f16f8e0",
       "value": "vocab.txt: 100%"
      }
     },
     "9acc9cdce98e4ab6b5ad2a367f16f8e0": {
      "model_module": "@jupyter-widgets/controls",
      "model_module_version": "1.5.0",
      "model_name": "DescriptionStyleModel",
      "state": {
       "_model_module": "@jupyter-widgets/controls",
       "_model_module_version": "1.5.0",
       "_model_name": "DescriptionStyleModel",
       "_view_count": null,
       "_view_module": "@jupyter-widgets/base",
       "_view_module_version": "1.2.0",
       "_view_name": "StyleView",
       "description_width": ""
      }
     },
     "9c575910b533484280d996528d7d145a": {
      "model_module": "@jupyter-widgets/base",
      "model_module_version": "1.2.0",
      "model_name": "LayoutModel",
      "state": {
       "_model_module": "@jupyter-widgets/base",
       "_model_module_version": "1.2.0",
       "_model_name": "LayoutModel",
       "_view_count": null,
       "_view_module": "@jupyter-widgets/base",
       "_view_module_version": "1.2.0",
       "_view_name": "LayoutView",
       "align_content": null,
       "align_items": null,
       "align_self": null,
       "border": null,
       "bottom": null,
       "display": null,
       "flex": null,
       "flex_flow": null,
       "grid_area": null,
       "grid_auto_columns": null,
       "grid_auto_flow": null,
       "grid_auto_rows": null,
       "grid_column": null,
       "grid_gap": null,
       "grid_row": null,
       "grid_template_areas": null,
       "grid_template_columns": null,
       "grid_template_rows": null,
       "height": null,
       "justify_content": null,
       "justify_items": null,
       "left": null,
       "margin": null,
       "max_height": null,
       "max_width": null,
       "min_height": null,
       "min_width": null,
       "object_fit": null,
       "object_position": null,
       "order": null,
       "overflow": null,
       "overflow_x": null,
       "overflow_y": null,
       "padding": null,
       "right": null,
       "top": null,
       "visibility": null,
       "width": null
      }
     },
     "a4b940ce7245431e9690521661712d65": {
      "model_module": "@jupyter-widgets/base",
      "model_module_version": "1.2.0",
      "model_name": "LayoutModel",
      "state": {
       "_model_module": "@jupyter-widgets/base",
       "_model_module_version": "1.2.0",
       "_model_name": "LayoutModel",
       "_view_count": null,
       "_view_module": "@jupyter-widgets/base",
       "_view_module_version": "1.2.0",
       "_view_name": "LayoutView",
       "align_content": null,
       "align_items": null,
       "align_self": null,
       "border": null,
       "bottom": null,
       "display": null,
       "flex": null,
       "flex_flow": null,
       "grid_area": null,
       "grid_auto_columns": null,
       "grid_auto_flow": null,
       "grid_auto_rows": null,
       "grid_column": null,
       "grid_gap": null,
       "grid_row": null,
       "grid_template_areas": null,
       "grid_template_columns": null,
       "grid_template_rows": null,
       "height": null,
       "justify_content": null,
       "justify_items": null,
       "left": null,
       "margin": null,
       "max_height": null,
       "max_width": null,
       "min_height": null,
       "min_width": null,
       "object_fit": null,
       "object_position": null,
       "order": null,
       "overflow": null,
       "overflow_x": null,
       "overflow_y": null,
       "padding": null,
       "right": null,
       "top": null,
       "visibility": null,
       "width": null
      }
     },
     "a6d3b7c485de458e9a84bf423a91686d": {
      "model_module": "@jupyter-widgets/base",
      "model_module_version": "1.2.0",
      "model_name": "LayoutModel",
      "state": {
       "_model_module": "@jupyter-widgets/base",
       "_model_module_version": "1.2.0",
       "_model_name": "LayoutModel",
       "_view_count": null,
       "_view_module": "@jupyter-widgets/base",
       "_view_module_version": "1.2.0",
       "_view_name": "LayoutView",
       "align_content": null,
       "align_items": null,
       "align_self": null,
       "border": null,
       "bottom": null,
       "display": null,
       "flex": null,
       "flex_flow": null,
       "grid_area": null,
       "grid_auto_columns": null,
       "grid_auto_flow": null,
       "grid_auto_rows": null,
       "grid_column": null,
       "grid_gap": null,
       "grid_row": null,
       "grid_template_areas": null,
       "grid_template_columns": null,
       "grid_template_rows": null,
       "height": null,
       "justify_content": null,
       "justify_items": null,
       "left": null,
       "margin": null,
       "max_height": null,
       "max_width": null,
       "min_height": null,
       "min_width": null,
       "object_fit": null,
       "object_position": null,
       "order": null,
       "overflow": null,
       "overflow_x": null,
       "overflow_y": null,
       "padding": null,
       "right": null,
       "top": null,
       "visibility": null,
       "width": null
      }
     },
     "a77ef76bc67645bcaba2c8ae14463944": {
      "model_module": "@jupyter-widgets/base",
      "model_module_version": "1.2.0",
      "model_name": "LayoutModel",
      "state": {
       "_model_module": "@jupyter-widgets/base",
       "_model_module_version": "1.2.0",
       "_model_name": "LayoutModel",
       "_view_count": null,
       "_view_module": "@jupyter-widgets/base",
       "_view_module_version": "1.2.0",
       "_view_name": "LayoutView",
       "align_content": null,
       "align_items": null,
       "align_self": null,
       "border": null,
       "bottom": null,
       "display": null,
       "flex": null,
       "flex_flow": null,
       "grid_area": null,
       "grid_auto_columns": null,
       "grid_auto_flow": null,
       "grid_auto_rows": null,
       "grid_column": null,
       "grid_gap": null,
       "grid_row": null,
       "grid_template_areas": null,
       "grid_template_columns": null,
       "grid_template_rows": null,
       "height": null,
       "justify_content": null,
       "justify_items": null,
       "left": null,
       "margin": null,
       "max_height": null,
       "max_width": null,
       "min_height": null,
       "min_width": null,
       "object_fit": null,
       "object_position": null,
       "order": null,
       "overflow": null,
       "overflow_x": null,
       "overflow_y": null,
       "padding": null,
       "right": null,
       "top": null,
       "visibility": null,
       "width": null
      }
     },
     "adcc57f8ade448689fc4fb647ebf368c": {
      "model_module": "@jupyter-widgets/base",
      "model_module_version": "1.2.0",
      "model_name": "LayoutModel",
      "state": {
       "_model_module": "@jupyter-widgets/base",
       "_model_module_version": "1.2.0",
       "_model_name": "LayoutModel",
       "_view_count": null,
       "_view_module": "@jupyter-widgets/base",
       "_view_module_version": "1.2.0",
       "_view_name": "LayoutView",
       "align_content": null,
       "align_items": null,
       "align_self": null,
       "border": null,
       "bottom": null,
       "display": null,
       "flex": null,
       "flex_flow": null,
       "grid_area": null,
       "grid_auto_columns": null,
       "grid_auto_flow": null,
       "grid_auto_rows": null,
       "grid_column": null,
       "grid_gap": null,
       "grid_row": null,
       "grid_template_areas": null,
       "grid_template_columns": null,
       "grid_template_rows": null,
       "height": null,
       "justify_content": null,
       "justify_items": null,
       "left": null,
       "margin": null,
       "max_height": null,
       "max_width": null,
       "min_height": null,
       "min_width": null,
       "object_fit": null,
       "object_position": null,
       "order": null,
       "overflow": null,
       "overflow_x": null,
       "overflow_y": null,
       "padding": null,
       "right": null,
       "top": null,
       "visibility": null,
       "width": null
      }
     },
     "aef232d7d52c45d2ba6af476c2f2cbf0": {
      "model_module": "@jupyter-widgets/controls",
      "model_module_version": "1.5.0",
      "model_name": "DescriptionStyleModel",
      "state": {
       "_model_module": "@jupyter-widgets/controls",
       "_model_module_version": "1.5.0",
       "_model_name": "DescriptionStyleModel",
       "_view_count": null,
       "_view_module": "@jupyter-widgets/base",
       "_view_module_version": "1.2.0",
       "_view_name": "StyleView",
       "description_width": ""
      }
     },
     "b280db594e5b4a8c961f78fb232df040": {
      "model_module": "@jupyter-widgets/controls",
      "model_module_version": "1.5.0",
      "model_name": "ProgressStyleModel",
      "state": {
       "_model_module": "@jupyter-widgets/controls",
       "_model_module_version": "1.5.0",
       "_model_name": "ProgressStyleModel",
       "_view_count": null,
       "_view_module": "@jupyter-widgets/base",
       "_view_module_version": "1.2.0",
       "_view_name": "StyleView",
       "bar_color": null,
       "description_width": ""
      }
     },
     "b2af6a21407746528d9f862c72f88c20": {
      "model_module": "@jupyter-widgets/base",
      "model_module_version": "1.2.0",
      "model_name": "LayoutModel",
      "state": {
       "_model_module": "@jupyter-widgets/base",
       "_model_module_version": "1.2.0",
       "_model_name": "LayoutModel",
       "_view_count": null,
       "_view_module": "@jupyter-widgets/base",
       "_view_module_version": "1.2.0",
       "_view_name": "LayoutView",
       "align_content": null,
       "align_items": null,
       "align_self": null,
       "border": null,
       "bottom": null,
       "display": null,
       "flex": null,
       "flex_flow": null,
       "grid_area": null,
       "grid_auto_columns": null,
       "grid_auto_flow": null,
       "grid_auto_rows": null,
       "grid_column": null,
       "grid_gap": null,
       "grid_row": null,
       "grid_template_areas": null,
       "grid_template_columns": null,
       "grid_template_rows": null,
       "height": null,
       "justify_content": null,
       "justify_items": null,
       "left": null,
       "margin": null,
       "max_height": null,
       "max_width": null,
       "min_height": null,
       "min_width": null,
       "object_fit": null,
       "object_position": null,
       "order": null,
       "overflow": null,
       "overflow_x": null,
       "overflow_y": null,
       "padding": null,
       "right": null,
       "top": null,
       "visibility": null,
       "width": null
      }
     },
     "b32749bc6f1f48fba51890fb1b880ea9": {
      "model_module": "@jupyter-widgets/controls",
      "model_module_version": "1.5.0",
      "model_name": "HTMLModel",
      "state": {
       "_dom_classes": [],
       "_model_module": "@jupyter-widgets/controls",
       "_model_module_version": "1.5.0",
       "_model_name": "HTMLModel",
       "_view_count": null,
       "_view_module": "@jupyter-widgets/controls",
       "_view_module_version": "1.5.0",
       "_view_name": "HTMLView",
       "description": "",
       "description_tooltip": null,
       "layout": "IPY_MODEL_5c242ba2a3124176aebba2cf58c3b69f",
       "placeholder": "​",
       "style": "IPY_MODEL_833f1ade397b4b678e4de4b28207d284",
       "value": "tokenizer.json: 100%"
      }
     },
     "b575704c74344f6d983c185b026724e4": {
      "model_module": "@jupyter-widgets/controls",
      "model_module_version": "1.5.0",
      "model_name": "HTMLModel",
      "state": {
       "_dom_classes": [],
       "_model_module": "@jupyter-widgets/controls",
       "_model_module_version": "1.5.0",
       "_model_name": "HTMLModel",
       "_view_count": null,
       "_view_module": "@jupyter-widgets/controls",
       "_view_module_version": "1.5.0",
       "_view_name": "HTMLView",
       "description": "",
       "description_tooltip": null,
       "layout": "IPY_MODEL_68c174b0e13a4070950aabdbcacdb1d8",
       "placeholder": "​",
       "style": "IPY_MODEL_c67cb70eac9945d4a2c48c471be45309",
       "value": "config.json: 100%"
      }
     },
     "b7593d7c013f4a6a9b50fb1b5fc3fc15": {
      "model_module": "@jupyter-widgets/controls",
      "model_module_version": "1.5.0",
      "model_name": "HBoxModel",
      "state": {
       "_dom_classes": [],
       "_model_module": "@jupyter-widgets/controls",
       "_model_module_version": "1.5.0",
       "_model_name": "HBoxModel",
       "_view_count": null,
       "_view_module": "@jupyter-widgets/controls",
       "_view_module_version": "1.5.0",
       "_view_name": "HBoxView",
       "box_style": "",
       "children": [
        "IPY_MODEL_8b07ab5d1f8c47de8dbc570ecb7f93d7",
        "IPY_MODEL_222ddbd17d5e4f73b289567e52bddbfc",
        "IPY_MODEL_eedd756cb0bd438490a9d2f1bde5199b"
       ],
       "layout": "IPY_MODEL_b2af6a21407746528d9f862c72f88c20"
      }
     },
     "b77396e2cd5b468b98966bc11f5a31dc": {
      "model_module": "@jupyter-widgets/controls",
      "model_module_version": "1.5.0",
      "model_name": "DescriptionStyleModel",
      "state": {
       "_model_module": "@jupyter-widgets/controls",
       "_model_module_version": "1.5.0",
       "_model_name": "DescriptionStyleModel",
       "_view_count": null,
       "_view_module": "@jupyter-widgets/base",
       "_view_module_version": "1.2.0",
       "_view_name": "StyleView",
       "description_width": ""
      }
     },
     "b92d509048f0481cb38333f7c477d399": {
      "model_module": "@jupyter-widgets/controls",
      "model_module_version": "1.5.0",
      "model_name": "ProgressStyleModel",
      "state": {
       "_model_module": "@jupyter-widgets/controls",
       "_model_module_version": "1.5.0",
       "_model_name": "ProgressStyleModel",
       "_view_count": null,
       "_view_module": "@jupyter-widgets/base",
       "_view_module_version": "1.2.0",
       "_view_name": "StyleView",
       "bar_color": null,
       "description_width": ""
      }
     },
     "b97cdd317019497ca8f6166d88af19a0": {
      "model_module": "@jupyter-widgets/base",
      "model_module_version": "1.2.0",
      "model_name": "LayoutModel",
      "state": {
       "_model_module": "@jupyter-widgets/base",
       "_model_module_version": "1.2.0",
       "_model_name": "LayoutModel",
       "_view_count": null,
       "_view_module": "@jupyter-widgets/base",
       "_view_module_version": "1.2.0",
       "_view_name": "LayoutView",
       "align_content": null,
       "align_items": null,
       "align_self": null,
       "border": null,
       "bottom": null,
       "display": null,
       "flex": null,
       "flex_flow": null,
       "grid_area": null,
       "grid_auto_columns": null,
       "grid_auto_flow": null,
       "grid_auto_rows": null,
       "grid_column": null,
       "grid_gap": null,
       "grid_row": null,
       "grid_template_areas": null,
       "grid_template_columns": null,
       "grid_template_rows": null,
       "height": null,
       "justify_content": null,
       "justify_items": null,
       "left": null,
       "margin": null,
       "max_height": null,
       "max_width": null,
       "min_height": null,
       "min_width": null,
       "object_fit": null,
       "object_position": null,
       "order": null,
       "overflow": null,
       "overflow_x": null,
       "overflow_y": null,
       "padding": null,
       "right": null,
       "top": null,
       "visibility": null,
       "width": null
      }
     },
     "bcc626ec6bd84109bbf7e93ee7bfa319": {
      "model_module": "@jupyter-widgets/controls",
      "model_module_version": "1.5.0",
      "model_name": "HBoxModel",
      "state": {
       "_dom_classes": [],
       "_model_module": "@jupyter-widgets/controls",
       "_model_module_version": "1.5.0",
       "_model_name": "HBoxModel",
       "_view_count": null,
       "_view_module": "@jupyter-widgets/controls",
       "_view_module_version": "1.5.0",
       "_view_name": "HBoxView",
       "box_style": "",
       "children": [
        "IPY_MODEL_b575704c74344f6d983c185b026724e4",
        "IPY_MODEL_092fba63935e4398a140a1eb1c58285f",
        "IPY_MODEL_59ad0d8207964f57bd2d60c387045742"
       ],
       "layout": "IPY_MODEL_fc82e200ba314fa29e27f421a0c89148"
      }
     },
     "c152b57f80df44fe823507028bbef487": {
      "model_module": "@jupyter-widgets/controls",
      "model_module_version": "1.5.0",
      "model_name": "DescriptionStyleModel",
      "state": {
       "_model_module": "@jupyter-widgets/controls",
       "_model_module_version": "1.5.0",
       "_model_name": "DescriptionStyleModel",
       "_view_count": null,
       "_view_module": "@jupyter-widgets/base",
       "_view_module_version": "1.2.0",
       "_view_name": "StyleView",
       "description_width": ""
      }
     },
     "c67cb70eac9945d4a2c48c471be45309": {
      "model_module": "@jupyter-widgets/controls",
      "model_module_version": "1.5.0",
      "model_name": "DescriptionStyleModel",
      "state": {
       "_model_module": "@jupyter-widgets/controls",
       "_model_module_version": "1.5.0",
       "_model_name": "DescriptionStyleModel",
       "_view_count": null,
       "_view_module": "@jupyter-widgets/base",
       "_view_module_version": "1.2.0",
       "_view_name": "StyleView",
       "description_width": ""
      }
     },
     "cbfa9928621e4117a2672566933e796b": {
      "model_module": "@jupyter-widgets/controls",
      "model_module_version": "1.5.0",
      "model_name": "DescriptionStyleModel",
      "state": {
       "_model_module": "@jupyter-widgets/controls",
       "_model_module_version": "1.5.0",
       "_model_name": "DescriptionStyleModel",
       "_view_count": null,
       "_view_module": "@jupyter-widgets/base",
       "_view_module_version": "1.2.0",
       "_view_name": "StyleView",
       "description_width": ""
      }
     },
     "d19c2eec724743b6bb48c0a26165ada9": {
      "model_module": "@jupyter-widgets/controls",
      "model_module_version": "1.5.0",
      "model_name": "HBoxModel",
      "state": {
       "_dom_classes": [],
       "_model_module": "@jupyter-widgets/controls",
       "_model_module_version": "1.5.0",
       "_model_name": "HBoxModel",
       "_view_count": null,
       "_view_module": "@jupyter-widgets/controls",
       "_view_module_version": "1.5.0",
       "_view_name": "HBoxView",
       "box_style": "",
       "children": [
        "IPY_MODEL_d801524a5bdc4841aa169ac2d33e161b",
        "IPY_MODEL_f03e3e1dc0e5490f9591b3e43b9cd2d2",
        "IPY_MODEL_d2b5ff727f2a41f099b80f17984e399e"
       ],
       "layout": "IPY_MODEL_474484f7aa0c4c548905d1fdf71027d0"
      }
     },
     "d2b5ff727f2a41f099b80f17984e399e": {
      "model_module": "@jupyter-widgets/controls",
      "model_module_version": "1.5.0",
      "model_name": "HTMLModel",
      "state": {
       "_dom_classes": [],
       "_model_module": "@jupyter-widgets/controls",
       "_model_module_version": "1.5.0",
       "_model_name": "HTMLModel",
       "_view_count": null,
       "_view_module": "@jupyter-widgets/controls",
       "_view_module_version": "1.5.0",
       "_view_name": "HTMLView",
       "description": "",
       "description_tooltip": null,
       "layout": "IPY_MODEL_9c575910b533484280d996528d7d145a",
       "placeholder": "​",
       "style": "IPY_MODEL_8af148253d454f56be84e1881450c75f",
       "value": " 405/405 [00:00&lt;00:00, 37.0kB/s]"
      }
     },
     "d801524a5bdc4841aa169ac2d33e161b": {
      "model_module": "@jupyter-widgets/controls",
      "model_module_version": "1.5.0",
      "model_name": "HTMLModel",
      "state": {
       "_dom_classes": [],
       "_model_module": "@jupyter-widgets/controls",
       "_model_module_version": "1.5.0",
       "_model_name": "HTMLModel",
       "_view_count": null,
       "_view_module": "@jupyter-widgets/controls",
       "_view_module_version": "1.5.0",
       "_view_name": "HTMLView",
       "description": "",
       "description_tooltip": null,
       "layout": "IPY_MODEL_e27faac47d954c169a43dee4998d3763",
       "placeholder": "​",
       "style": "IPY_MODEL_32f09aef0ade494b8b437b492beffe79",
       "value": "tokenizer_config.json: 100%"
      }
     },
     "db8da19ce52f4c7e8e9a2ccb06537723": {
      "model_module": "@jupyter-widgets/controls",
      "model_module_version": "1.5.0",
      "model_name": "HTMLModel",
      "state": {
       "_dom_classes": [],
       "_model_module": "@jupyter-widgets/controls",
       "_model_module_version": "1.5.0",
       "_model_name": "HTMLModel",
       "_view_count": null,
       "_view_module": "@jupyter-widgets/controls",
       "_view_module_version": "1.5.0",
       "_view_name": "HTMLView",
       "description": "",
       "description_tooltip": null,
       "layout": "IPY_MODEL_0b8a1077b4d541ffa6d7767de8d66e29",
       "placeholder": "​",
       "style": "IPY_MODEL_0d37baeb4aca4c7b9d6a91d9403efbaa",
       "value": "special_tokens_map.json: 100%"
      }
     },
     "e199f7be8c3348f888392511ab2226d4": {
      "model_module": "@jupyter-widgets/base",
      "model_module_version": "1.2.0",
      "model_name": "LayoutModel",
      "state": {
       "_model_module": "@jupyter-widgets/base",
       "_model_module_version": "1.2.0",
       "_model_name": "LayoutModel",
       "_view_count": null,
       "_view_module": "@jupyter-widgets/base",
       "_view_module_version": "1.2.0",
       "_view_name": "LayoutView",
       "align_content": null,
       "align_items": null,
       "align_self": null,
       "border": null,
       "bottom": null,
       "display": null,
       "flex": null,
       "flex_flow": null,
       "grid_area": null,
       "grid_auto_columns": null,
       "grid_auto_flow": null,
       "grid_auto_rows": null,
       "grid_column": null,
       "grid_gap": null,
       "grid_row": null,
       "grid_template_areas": null,
       "grid_template_columns": null,
       "grid_template_rows": null,
       "height": null,
       "justify_content": null,
       "justify_items": null,
       "left": null,
       "margin": null,
       "max_height": null,
       "max_width": null,
       "min_height": null,
       "min_width": null,
       "object_fit": null,
       "object_position": null,
       "order": null,
       "overflow": null,
       "overflow_x": null,
       "overflow_y": null,
       "padding": null,
       "right": null,
       "top": null,
       "visibility": null,
       "width": null
      }
     },
     "e27faac47d954c169a43dee4998d3763": {
      "model_module": "@jupyter-widgets/base",
      "model_module_version": "1.2.0",
      "model_name": "LayoutModel",
      "state": {
       "_model_module": "@jupyter-widgets/base",
       "_model_module_version": "1.2.0",
       "_model_name": "LayoutModel",
       "_view_count": null,
       "_view_module": "@jupyter-widgets/base",
       "_view_module_version": "1.2.0",
       "_view_name": "LayoutView",
       "align_content": null,
       "align_items": null,
       "align_self": null,
       "border": null,
       "bottom": null,
       "display": null,
       "flex": null,
       "flex_flow": null,
       "grid_area": null,
       "grid_auto_columns": null,
       "grid_auto_flow": null,
       "grid_auto_rows": null,
       "grid_column": null,
       "grid_gap": null,
       "grid_row": null,
       "grid_template_areas": null,
       "grid_template_columns": null,
       "grid_template_rows": null,
       "height": null,
       "justify_content": null,
       "justify_items": null,
       "left": null,
       "margin": null,
       "max_height": null,
       "max_width": null,
       "min_height": null,
       "min_width": null,
       "object_fit": null,
       "object_position": null,
       "order": null,
       "overflow": null,
       "overflow_x": null,
       "overflow_y": null,
       "padding": null,
       "right": null,
       "top": null,
       "visibility": null,
       "width": null
      }
     },
     "eedd756cb0bd438490a9d2f1bde5199b": {
      "model_module": "@jupyter-widgets/controls",
      "model_module_version": "1.5.0",
      "model_name": "HTMLModel",
      "state": {
       "_dom_classes": [],
       "_model_module": "@jupyter-widgets/controls",
       "_model_module_version": "1.5.0",
       "_model_name": "HTMLModel",
       "_view_count": null,
       "_view_module": "@jupyter-widgets/controls",
       "_view_module_version": "1.5.0",
       "_view_name": "HTMLView",
       "description": "",
       "description_tooltip": null,
       "layout": "IPY_MODEL_09d3a86a6612417788bf99a7ba8c09a5",
       "placeholder": "​",
       "style": "IPY_MODEL_cbfa9928621e4117a2672566933e796b",
       "value": " 1.63k/1.63k [00:00&lt;00:00, 89.8kB/s]"
      }
     },
     "ef818d672e634021abcfb163776a28a8": {
      "model_module": "@jupyter-widgets/base",
      "model_module_version": "1.2.0",
      "model_name": "LayoutModel",
      "state": {
       "_model_module": "@jupyter-widgets/base",
       "_model_module_version": "1.2.0",
       "_model_name": "LayoutModel",
       "_view_count": null,
       "_view_module": "@jupyter-widgets/base",
       "_view_module_version": "1.2.0",
       "_view_name": "LayoutView",
       "align_content": null,
       "align_items": null,
       "align_self": null,
       "border": null,
       "bottom": null,
       "display": null,
       "flex": null,
       "flex_flow": null,
       "grid_area": null,
       "grid_auto_columns": null,
       "grid_auto_flow": null,
       "grid_auto_rows": null,
       "grid_column": null,
       "grid_gap": null,
       "grid_row": null,
       "grid_template_areas": null,
       "grid_template_columns": null,
       "grid_template_rows": null,
       "height": null,
       "justify_content": null,
       "justify_items": null,
       "left": null,
       "margin": null,
       "max_height": null,
       "max_width": null,
       "min_height": null,
       "min_width": null,
       "object_fit": null,
       "object_position": null,
       "order": null,
       "overflow": null,
       "overflow_x": null,
       "overflow_y": null,
       "padding": null,
       "right": null,
       "top": null,
       "visibility": null,
       "width": null
      }
     },
     "f03e3e1dc0e5490f9591b3e43b9cd2d2": {
      "model_module": "@jupyter-widgets/controls",
      "model_module_version": "1.5.0",
      "model_name": "FloatProgressModel",
      "state": {
       "_dom_classes": [],
       "_model_module": "@jupyter-widgets/controls",
       "_model_module_version": "1.5.0",
       "_model_name": "FloatProgressModel",
       "_view_count": null,
       "_view_module": "@jupyter-widgets/controls",
       "_view_module_version": "1.5.0",
       "_view_name": "ProgressView",
       "bar_style": "success",
       "description": "",
       "description_tooltip": null,
       "layout": "IPY_MODEL_0085622f8cc64d96ac1b297a490aceb3",
       "max": 405.0,
       "min": 0.0,
       "orientation": "horizontal",
       "style": "IPY_MODEL_b280db594e5b4a8c961f78fb232df040",
       "value": 405.0
      }
     },
     "f160f7885e1e41f6a9704267aa4defba": {
      "model_module": "@jupyter-widgets/controls",
      "model_module_version": "1.5.0",
      "model_name": "FloatProgressModel",
      "state": {
       "_dom_classes": [],
       "_model_module": "@jupyter-widgets/controls",
       "_model_module_version": "1.5.0",
       "_model_name": "FloatProgressModel",
       "_view_count": null,
       "_view_module": "@jupyter-widgets/controls",
       "_view_module_version": "1.5.0",
       "_view_name": "ProgressView",
       "bar_style": "success",
       "description": "",
       "description_tooltip": null,
       "layout": "IPY_MODEL_5d5ae85d5bc8455cae0dddff8d3da1d5",
       "max": 466081.0,
       "min": 0.0,
       "orientation": "horizontal",
       "style": "IPY_MODEL_f9e398ce6c7c44ddb4bccea0438d7070",
       "value": 466081.0
      }
     },
     "f9e398ce6c7c44ddb4bccea0438d7070": {
      "model_module": "@jupyter-widgets/controls",
      "model_module_version": "1.5.0",
      "model_name": "ProgressStyleModel",
      "state": {
       "_model_module": "@jupyter-widgets/controls",
       "_model_module_version": "1.5.0",
       "_model_name": "ProgressStyleModel",
       "_view_count": null,
       "_view_module": "@jupyter-widgets/base",
       "_view_module_version": "1.2.0",
       "_view_name": "StyleView",
       "bar_color": null,
       "description_width": ""
      }
     },
     "fa71fb6505ff4376a474b5a1fde3325b": {
      "model_module": "@jupyter-widgets/base",
      "model_module_version": "1.2.0",
      "model_name": "LayoutModel",
      "state": {
       "_model_module": "@jupyter-widgets/base",
       "_model_module_version": "1.2.0",
       "_model_name": "LayoutModel",
       "_view_count": null,
       "_view_module": "@jupyter-widgets/base",
       "_view_module_version": "1.2.0",
       "_view_name": "LayoutView",
       "align_content": null,
       "align_items": null,
       "align_self": null,
       "border": null,
       "bottom": null,
       "display": null,
       "flex": null,
       "flex_flow": null,
       "grid_area": null,
       "grid_auto_columns": null,
       "grid_auto_flow": null,
       "grid_auto_rows": null,
       "grid_column": null,
       "grid_gap": null,
       "grid_row": null,
       "grid_template_areas": null,
       "grid_template_columns": null,
       "grid_template_rows": null,
       "height": null,
       "justify_content": null,
       "justify_items": null,
       "left": null,
       "margin": null,
       "max_height": null,
       "max_width": null,
       "min_height": null,
       "min_width": null,
       "object_fit": null,
       "object_position": null,
       "order": null,
       "overflow": null,
       "overflow_x": null,
       "overflow_y": null,
       "padding": null,
       "right": null,
       "top": null,
       "visibility": null,
       "width": null
      }
     },
     "fc82e200ba314fa29e27f421a0c89148": {
      "model_module": "@jupyter-widgets/base",
      "model_module_version": "1.2.0",
      "model_name": "LayoutModel",
      "state": {
       "_model_module": "@jupyter-widgets/base",
       "_model_module_version": "1.2.0",
       "_model_name": "LayoutModel",
       "_view_count": null,
       "_view_module": "@jupyter-widgets/base",
       "_view_module_version": "1.2.0",
       "_view_name": "LayoutView",
       "align_content": null,
       "align_items": null,
       "align_self": null,
       "border": null,
       "bottom": null,
       "display": null,
       "flex": null,
       "flex_flow": null,
       "grid_area": null,
       "grid_auto_columns": null,
       "grid_auto_flow": null,
       "grid_auto_rows": null,
       "grid_column": null,
       "grid_gap": null,
       "grid_row": null,
       "grid_template_areas": null,
       "grid_template_columns": null,
       "grid_template_rows": null,
       "height": null,
       "justify_content": null,
       "justify_items": null,
       "left": null,
       "margin": null,
       "max_height": null,
       "max_width": null,
       "min_height": null,
       "min_width": null,
       "object_fit": null,
       "object_position": null,
       "order": null,
       "overflow": null,
       "overflow_x": null,
       "overflow_y": null,
       "padding": null,
       "right": null,
       "top": null,
       "visibility": null,
       "width": null
      }
     },
     "ff4154f265704225b5edd5d2da320956": {
      "model_module": "@jupyter-widgets/controls",
      "model_module_version": "1.5.0",
      "model_name": "ProgressStyleModel",
      "state": {
       "_model_module": "@jupyter-widgets/controls",
       "_model_module_version": "1.5.0",
       "_model_name": "ProgressStyleModel",
       "_view_count": null,
       "_view_module": "@jupyter-widgets/base",
       "_view_module_version": "1.2.0",
       "_view_name": "StyleView",
       "bar_color": null,
       "description_width": ""
      }
     }
    },
    "version_major": 2,
    "version_minor": 0
   }
  }
 },
 "nbformat": 4,
 "nbformat_minor": 5
}
